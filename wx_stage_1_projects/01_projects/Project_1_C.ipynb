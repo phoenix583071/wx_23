{
 "cells": [
  {
   "cell_type": "markdown",
   "id": "8a5c097f",
   "metadata": {},
   "source": [
    "# Project 1C: Data Analysis: Loss Finder\n",
    "---\n",
    "> - Tejas Dabke\n",
    "> - Rishabh Wankhede\n",
    "> - Rory Byrne\n",
    "---\n",
    "Using the R5IM signal, and dummy data of your own creation, you will research how to use existing python tools to define methods to identify \"sharp\" decrease in the R5IM (Intensity Monitor in super-period 5) signal. Decrease in intensity equates to lost protons. \"Sharp\" should be defined by the user, and thus you should investigate how to quantify and and allow the user to vary this.\n",
    "\n",
    "You will define **fast** and **accurate** methods by testing and comparing."
   ]
  },
  {
   "cell_type": "markdown",
   "id": "7c8095f4",
   "metadata": {},
   "source": [
    "<div class=\"alert alert-block alert-info\">\n",
    "<b>General Advice</b>\n",
    "\n",
    "> In your groups:\n",
    "> - Start by planning your work\n",
    "> - You will need fundamental functions; try to plan what these should do, what arguments they should take, which should have default values (some default values will need research - ask us!), and what they should return. Don't forget to consider speed and the format of the data (float? int? array of floats? should the array be a certain length?...)\n",
    "> - Ask for feedback on your plan to save time\n",
    "> - Document your functions so others can understand / use / modify them\n",
    "> - Build more complex functions using the fundamental functions, this may require you to go back and modify the fundamental functions.\n",
    "> - Some things are suitable for objects (classes), others are not. Speed and accuracy are important.\n",
    "\n",
    "\n",
    "> When coding a function (unless you have a preferred method):\n",
    "> 1. Plan your code in bullet points / pseudo-code\n",
    "> 2. Template your functions - put comments to say what you want to do\n",
    "> 3. Implement your code step-by-step. Pair programming here is your friend and will catch many mistakes, as well as give 2 people enough experience of the code to help debug it\n",
    "> 4. Test your code and document the testing\n",
    "> 5. Provide standard tests <b>only if requested by Haroon/Esher</b> (define an input with a known output and assert that it is the same, or within a tolerance)    \n",
    "> 6. Provide examples of use for each use case (different behaviour with optional arguments etc)\n",
    "> 7. Turn your functions into objects if suitable\n",
    "> 8. Get feedback from peers / supervisors / team-mates / users\n",
    "\n",
    "> - <b> Make a repository to hold your group project</b> (public so we can all access it at need), try to keep this well organised and easy to navigate / use / find something\n",
    "> - Make a Jupyter notebook for each investigation / function / method: such that future users (perhaps you) can use these notebooks to construct the code required to make future GUIs work\n",
    "> - Feel free to store individual work on your own 'dump' repository, and copy completed work to your group repository\n",
    "\n",
    "\n",
    "</div>"
   ]
  },
  {
   "cell_type": "markdown",
   "id": "6e76c4a1",
   "metadata": {},
   "source": [
    "---\n",
    "## Tasks:\n",
    "\n",
    "- [ ] Research methods of identifying loss (decrease) in the R5IM signal, consider:\n",
    "    - [ ] How to define the window of interest (change in x, change in y)\n",
    "    - [ ] How to quantify slow steady reduction?\n",
    "    - [ ] Existing python libraries / tools; there may be multiple, compare?\n",
    "    - [ ] Speed and accuracy are important\n",
    "- [ ] Implement methods to analyse a given R5IM signal and identify the N largest losses\n",
    "    - [ ] Quantify the N largest losses: what is the signal reduction, and over how long?\n",
    "    - [ ] Can you make this work at 1 Hz?\n",
    "\n",
    "### Extensions:\n",
    "Complete all tasks before starting extensions\n",
    "\n",
    "- [ ] **Collaborate with Project_1_H: Plotting:** plot R5IM with N largest losses highlighted, and think of ways to add text near each loss including the quantification of the loss\n",
    "- [ ] **Collaborate with Project_1_D: Peak finder:** for the same dataset, can you identify corresponding R5IM loss and BLM (sum or otherwise) peaks?"
   ]
  },
  {
   "cell_type": "markdown",
   "id": "1508497d",
   "metadata": {},
   "source": [
    "### Goal\n",
    "#### Provide methods (functions / classes) to:\n",
    "- [ ] Allow the user to identify the losses in R5IM intensity monitor signal\n",
    "- [ ] Quantify the losses \n",
    "- [ ] Highlight losses and quantify them using text on a plot that updates at 1Hz\n",
    "- [ ] (with group 1D) find and quantify correspondence between R5IM loss and BLM losses"
   ]
  },
  {
   "cell_type": "code",
   "execution_count": null,
   "id": "5bc8e7cc",
   "metadata": {},
   "outputs": [],
   "source": []
  }
 ],
 "metadata": {
  "kernelspec": {
   "display_name": "Python 3 (ipykernel)",
   "language": "python",
   "name": "python3"
  },
  "language_info": {
   "codemirror_mode": {
    "name": "ipython",
    "version": 3
   },
   "file_extension": ".py",
   "mimetype": "text/x-python",
   "name": "python",
   "nbconvert_exporter": "python",
   "pygments_lexer": "ipython3",
   "version": "3.11.3"
  }
 },
 "nbformat": 4,
 "nbformat_minor": 5
}
