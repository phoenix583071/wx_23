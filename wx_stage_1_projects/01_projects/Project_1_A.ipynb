{
 "cells": [
  {
   "cell_type": "markdown",
   "id": "8a5c097f",
   "metadata": {},
   "source": [
    "# Project 1A: Data Verification\n",
    "---\n",
    "> - Charlize Butcher\n",
    "> - Ansh Soni\n",
    "> - Dawei Tao\n",
    "---\n",
    "\n",
    "As our data arrives, there are many things that could be wrong. The time axes may be shifted, there may be broken BLMs or something broken in the digitisation process.\n",
    "\n",
    "The signals may be zero, offset in x or y, be inverted, etc!\n",
    "\n",
    "As this data is received currently at 1 Hz (maybe in the future at 10 Hz or more), you will define **fast** and **accurate** methods to clean up our data and verify that it is as good as it can be. All GUIs will start with your filtered data, and most will require methods to change the filtering in real time."
   ]
  },
  {
   "cell_type": "markdown",
   "id": "7c8095f4",
   "metadata": {},
   "source": [
    "<div class=\"alert alert-block alert-info\">\n",
    "<b>General Advice</b>\n",
    "\n",
    "> In your groups:\n",
    "> - Start by planning your work\n",
    "> - You will need fundamental functions; try to plan what these should do, what arguments they should take, which should have default values (some default values will need research - ask us!), and what they should return. Don't forget to consider speed and the format of the data (float? int? array of floats? should the array be a certain length?...)\n",
    "> - Ask for feedback on your plan to save time\n",
    "> - Document your functions so others can understand / use / modify them\n",
    "> - Build more complex functions using the fundamental functions, this may require you to go back and modify the fundamental functions.\n",
    "> - Some things are suitable for objects (classes), others are not. Speed and accuracy are important.\n",
    "\n",
    "\n",
    "> When coding a function (unless you have a preferred method):\n",
    "> 1. Plan your code in bullet points / pseudo-code\n",
    "> 2. Template your functions - put comments to say what you want to do\n",
    "> 3. Implement your code step-by-step. Pair programming here is your friend and will catch many mistakes, as well as give 2 people enough experience of the code to help debug it\n",
    "> 4. Test your code and document the testing\n",
    "> 5. Provide standard tests <b>only if requested by Haroon/Esher</b> (define an input with a known output and assert that it is the same, or within a tolerance)    \n",
    "> 6. Provide examples of use for each use case (different behaviour with optional arguments etc)\n",
    "> 7. Turn your functions into objects if suitable\n",
    "> 8. Get feedback from peers / supervisors / team-mates / users\n",
    "\n",
    "> - <b> Make a repository to hold your group project</b> (public so we can all access it at need), try to keep this well organised and easy to navigate / use / find something\n",
    "> - Make a Jupyter notebook for each investigation / function / method: such that future users (perhaps you) can use these notebooks to construct the code required to make future GUIs work\n",
    "> - Feel free to store individual work on your own 'dump' repository, and copy completed work to your group repository\n",
    "\n",
    "\n",
    "</div>"
   ]
  },
  {
   "cell_type": "markdown",
   "id": "6e76c4a1",
   "metadata": {},
   "source": [
    "---\n",
    "## Tasks:\n",
    "\n",
    "- [ ] Function to invert data in y axis\n",
    "- [ ] Function to offset data in y axis\n",
    "- [ ] Function to scale signals (multiply by user defined factor)\n",
    "- [ ] Function to allow the user to select which BLMs / R5IM signals they want by name or index\n",
    "- Function should allow mix of upper and lower case\n",
    "- Function should handle duplications with a warning\n",
    "- Function raises an exception if the selection is invalid; for example a BLM name that is missing a number, or is not in the list of existing BLMs (built in exception types are found here: https://docs.python.org/3/library/exceptions.html) and examples can be found on the web)\n",
    "- We will refer to the verified data as **filtered data**\n",
    "- [ ] Plot all data to show functionality\n",
    "- [ ] Combine functions into an object\n",
    "\n",
    "### Extensions:\n",
    "Complete all tasks before starting extensions\n",
    "\n",
    "- [ ] **Collaborate with Project_1_E: File I/O:** store data to file / read data from file\n",
    "- [ ] **Collaborate with Project_1_E: File I/O:** select BLMs from BLM configuration file (indices or blm names)\n",
    "- [ ] Time how long it takes (using python time library) to read input data from a configuration file\n",
    "- [ ] Define standard configuration files and methods for:\n",
    "    - [ ] blm / r5im selection via name or index\n",
    "    - [ ] inversion and offset for all 40 signals (one file)\n",
    "- [ ] Remove bad data (ask us what bad is), warnings for strange data\n",
    "- [ ] Apply smoothing"
   ]
  },
  {
   "cell_type": "markdown",
   "id": "1508497d",
   "metadata": {},
   "source": [
    "### Goal\n",
    "#### Provide methods (functions / classes) to:\n",
    "- [ ] Allow the user to select BLMs / R5IM by name and return the 2200 point array for selected signals\n",
    "- [ ] Allow the user to scale a selection of BLMs by a common factor\n",
    "- [ ] Allow the user to scale a selection of BLMs by individual factors\n",
    "- [ ] Allow the user to offset a selection of BLMs by individual amounts\n",
    "- [ ] Automatically offset BLM data using first/last N data points as the zero-level (allow user to change N)\n",
    "- [ ] Combine selection & auto-offset: consider this **filtered data**\n",
    "- [ ] Save **raw** and / or **filtered** data to file\n",
    "- [ ] Read BLM / R5IM selection from a file and return it in the python format required to input to your BLM selection function\n",
    "- [ ] Read inversion/offset data from a configuration file and return it in the python format required to input to your BLM inversion and offset function(s)"
   ]
  },
  {
   "cell_type": "markdown",
   "id": "070e1c51",
   "metadata": {},
   "source": [
    "## Haroon / Esher to provide:"
   ]
  },
  {
   "cell_type": "markdown",
   "id": "5b6ea69f",
   "metadata": {},
   "source": [
    "- [x] array of R5IM / BLM strings"
   ]
  },
  {
   "cell_type": "code",
   "execution_count": 1,
   "id": "e3232855",
   "metadata": {},
   "outputs": [],
   "source": [
    "labels = [\"r0blm1\", \"r0blm3\", \"r0blm4\", \n",
    "            \"r1blm1\", \"r1blm2\", \"r1blm3\", \"r1blm4\", \n",
    "            \"r2blm1\", \"r2blm2\", \"r2blm3\", \"r2blm4\", \n",
    "            \"r3blm1\", \"r3blm2\", \"r3blm3\", \"r3blm4\", \n",
    "            \"r4blm1\", \"r4blm2\", \"r4blm3\", \"r4blm4\", \n",
    "            \"r5blm1\", \"r5blm2\", \"r5blm3\", \"r5blm4\", \n",
    "            \"r6blm1\", \"r6blm2\", \"r6blm3\", \"r6blm4\", \n",
    "            \"r7blm1\", \"r7blm2\", \"r7blm3\", \"r7blm4\", \n",
    "            \"r8blm1\", \"r8blm2\", \"r8blm3\", \"r8blm4\", \n",
    "            \"r9blm1\", \"r9blm2\", \"r9blm3\", \"r9blm4\", \n",
    "            \"r5im\"]"
   ]
  },
  {
   "cell_type": "code",
   "execution_count": 2,
   "id": "47315c44",
   "metadata": {},
   "outputs": [
    {
     "data": {
      "text/plain": [
       "['r0blm1',\n",
       " 'r0blm3',\n",
       " 'r0blm4',\n",
       " 'r1blm1',\n",
       " 'r1blm2',\n",
       " 'r1blm3',\n",
       " 'r1blm4',\n",
       " 'r2blm1',\n",
       " 'r2blm2',\n",
       " 'r2blm3',\n",
       " 'r2blm4',\n",
       " 'r3blm1',\n",
       " 'r3blm2',\n",
       " 'r3blm3',\n",
       " 'r3blm4',\n",
       " 'r4blm1',\n",
       " 'r4blm2',\n",
       " 'r4blm3',\n",
       " 'r4blm4',\n",
       " 'r5blm1',\n",
       " 'r5blm2',\n",
       " 'r5blm3',\n",
       " 'r5blm4',\n",
       " 'r6blm1',\n",
       " 'r6blm2',\n",
       " 'r6blm3',\n",
       " 'r6blm4',\n",
       " 'r7blm1',\n",
       " 'r7blm2',\n",
       " 'r7blm3',\n",
       " 'r7blm4',\n",
       " 'r8blm1',\n",
       " 'r8blm2',\n",
       " 'r8blm3',\n",
       " 'r8blm4',\n",
       " 'r9blm1',\n",
       " 'r9blm2',\n",
       " 'r9blm3',\n",
       " 'r9blm4',\n",
       " 'r5im']"
      ]
     },
     "execution_count": 2,
     "metadata": {},
     "output_type": "execute_result"
    }
   ],
   "source": [
    "labels"
   ]
  },
  {
   "cell_type": "code",
   "execution_count": null,
   "id": "77246750",
   "metadata": {},
   "outputs": [],
   "source": []
  }
 ],
 "metadata": {
  "kernelspec": {
   "display_name": "Python 3 (ipykernel)",
   "language": "python",
   "name": "python3"
  },
  "language_info": {
   "codemirror_mode": {
    "name": "ipython",
    "version": 3
   },
   "file_extension": ".py",
   "mimetype": "text/x-python",
   "name": "python",
   "nbconvert_exporter": "python",
   "pygments_lexer": "ipython3",
   "version": "3.11.3"
  }
 },
 "nbformat": 4,
 "nbformat_minor": 5
}
