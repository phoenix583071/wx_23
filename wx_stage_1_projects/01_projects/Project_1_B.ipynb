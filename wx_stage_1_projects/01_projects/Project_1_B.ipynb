{
 "cells": [
  {
   "cell_type": "markdown",
   "id": "8a5c097f",
   "metadata": {},
   "source": [
    "# Project 1B: Analysis: Statistics\n",
    "---\n",
    "> - Evelyn Johns\n",
    "> - Ava Pontidas\n",
    "> - Charlotte Betts\n",
    "---\n",
    "\n",
    "In many of our GUIs the calculation and display of various statistical properties will be useful. In this group project you will look at a few standard statistics, and also suggest your own that you think could be useful.\n",
    "\n",
    "We will consider statistics in the following ways:\n",
    "- Individual signal; for example the sum of an individual signal, mean, etc\n",
    "- Individual signal over time; for example the cumulative mean (AKA rolling average), and RMS\n",
    "- Selection of signals; for example sum / mean of a selection of BLMs\n",
    "- Selection of signals over time; for example a rolling average of the sum of all BLMs\n",
    "\n",
    "With the addition of selecting time intervals to consider for these statistics.\n",
    "\n",
    "As this data is received currently at 1 Hz (maybe in the future at 10 Hz or more), it is important to define **fast** and **accurate** methods to analyse our data!"
   ]
  },
  {
   "cell_type": "markdown",
   "id": "7c8095f4",
   "metadata": {},
   "source": [
    "<div class=\"alert alert-block alert-info\">\n",
    "<b>General Advice</b>\n",
    "\n",
    "> In your groups:\n",
    "> - Start by planning your work\n",
    "> - You will need fundamental functions; try to plan what these should do, what arguments they should take, which should have default values (some default values will need research - ask us!), and what they should return. Don't forget to consider speed and the format of the data (float? int? array of floats? should the array be a certain length?...)\n",
    "> - Ask for feedback on your plan to save time\n",
    "> - Document your functions so others can understand / use / modify them\n",
    "> - Build more complex functions using the fundamental functions, this may require you to go back and modify the fundamental functions.\n",
    "> - Some things are suitable for objects (classes), others are not. Speed and accuracy are important.\n",
    "\n",
    "\n",
    "> When coding a function (unless you have a preferred method):\n",
    "> 1. Plan your code in bullet points / pseudo-code\n",
    "> 2. Template your functions - put comments to say what you want to do\n",
    "> 3. Implement your code step-by-step. Pair programming here is your friend and will catch many mistakes, as well as give 2 people enough experience of the code to help debug it\n",
    "> 4. Test your code and document the testing\n",
    "> 5. Provide standard tests <b>only if requested by Haroon/Esher</b> (define an input with a known output and assert that it is the same, or within a tolerance)    \n",
    "> 6. Provide examples of use for each use case (different behaviour with optional arguments etc)\n",
    "> 7. Turn your functions into objects if suitable\n",
    "> 8. Get feedback from peers / supervisors / team-mates / users\n",
    "\n",
    "> - <b> Make a repository to hold your group project</b> (public so we can all access it at need), try to keep this well organised and easy to navigate / use / find something\n",
    "> - Make a Jupyter notebook for each investigation / function / method: such that future users (perhaps you) can use these notebooks to construct the code required to make future GUIs work\n",
    "> - Feel free to store individual work on your own 'dump' repository, and copy completed work to your group repository\n",
    "\n",
    "\n",
    "</div>"
   ]
  },
  {
   "cell_type": "markdown",
   "id": "6e76c4a1",
   "metadata": {},
   "source": [
    "---\n",
    "## Tasks:\n",
    "\n",
    "- [ ] Function to sum the data in a single signal\n",
    "- [ ] Function to calculate mean of a single signal\n",
    "- [ ] Time selection for above functions (e.g. sum of signal between 3 - 7 ms)\n",
    "- [ ] Split the function into N sections, given an input of boundaries, example:\n",
    "    - input array = [-0.5, 0.0] gives the same output as previous function\n",
    "    - input array = [3.0, 4.6, 5.5] gives output stats between 3.0 - 4.6 ms, and 4.6 - 5.5 ms\n",
    "    - input array = [3.0, 4.6, 2.2] raises an exception because the last value goes backwards in time (built in exception types are found here: https://docs.python.org/3/library/exceptions.html) and examples can be found on the web)\n",
    "    - input array = [-0.5, 0.0, 3.5, 9.5, 10.5] gives 4 outputs, for the intervals (-0.5 - 0.0), (0.0 - 3.5), (3.5 - 0.5), (9.5, 10.5)\n",
    "- [ ] Functions to calculate the cumulative sum / mean, as data arrives, with a moving window of N MQTT signals (example; rolling window of last 5 seconds of data)\n",
    "- [ ] Above function with time interval selection, and split into N sections given input of boundaries\n",
    "- [ ] Investigate the fastest ways to do these (optimise your functions) using pythons time library to test\n",
    "\n",
    "###  Extensions\n",
    "Complete all tasks before starting extensions\n",
    "\n",
    "- [ ] Create similar functions (with time selection / splitting) for other useful statistics (**Check with Esher/Haroon before doing the work**)\n",
    "- [ ] **Collaborate with Project_1_E: File I/O:** store data to file or files (think about how it should be formatted, labelled etc), and load the data from said file or files\n",
    "- [ ] **Collaborate with Project_1_E: File I/O:** read time selection / splitting boundaries from a configuration file\n",
    "- [ ] Time how long it takes (using python time library) to read input data from a configuration file\n",
    "- [ ] Define standard configuration files and methods for:\n",
    "    - [ ] time / interval selection\n",
    "- [ ] Think of ways to optimise reading configuration data (objects might help here)"
   ]
  },
  {
   "cell_type": "markdown",
   "id": "1508497d",
   "metadata": {},
   "source": [
    "### Goal\n",
    "#### Provide methods (functions / classes) to:\n",
    "- [ ] perform statistical analysis on single signals\n",
    "- [ ] perform statistical analysis on single signals over time \n",
    "- [ ] perform statistical analysis on multiple signals\n",
    "- [ ] perform statistical analysis on multiple signals over time \n",
    "- [ ] allow the user to perform the above analysis on multiple time intervals of the MQTT signal data\n",
    "- [ ] allow the user to save/load the statistical data to/from file\n",
    "- [ ] allow the user to load configurations from file"
   ]
  }
 ],
 "metadata": {
  "kernelspec": {
   "display_name": "Python 3 (ipykernel)",
   "language": "python",
   "name": "python3"
  },
  "language_info": {
   "codemirror_mode": {
    "name": "ipython",
    "version": 3
   },
   "file_extension": ".py",
   "mimetype": "text/x-python",
   "name": "python",
   "nbconvert_exporter": "python",
   "pygments_lexer": "ipython3",
   "version": "3.11.3"
  }
 },
 "nbformat": 4,
 "nbformat_minor": 5
}
