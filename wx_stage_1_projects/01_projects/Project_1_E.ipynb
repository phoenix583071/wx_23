{
 "cells": [
  {
   "cell_type": "markdown",
   "id": "8a5c097f",
   "metadata": {},
   "source": [
    "# Project 1E: Data Handling: File Input/Output (AKA File I/O)\n",
    "---\n",
    "> - Harrison Mills\n",
    "> - Nathanial Patterson\n",
    "> - Tom Sutton\n",
    "---\n",
    "When handling data at 1 Hz with a goal to handling it at 50 Hz, our codes should be efficient and as fast as possible. One way that we can optimise our GUIs is to consider how to handle data in order to minimise the time taken for operation. For example, should we pass the maximum energy to all functions that need it, when this number does not change very often? As it can change, it should not be hard coded. One method is to read it from a file - this does not makes sense for this value alone, however we will be storing and changing many variables.\n",
    "\n",
    "In this sense you will define a few configuration file templates. Most GUIs will require calibration data to convert units, some will require tolerances or limits, most will require GUI specific settings. You will define methods to read data from files, and investigate the fastest way of reading and storing them as python data. \n",
    "\n",
    "Many of our GUIs will produce useful data. Some may be useful as experimental data, others as logs of machine performance. As such many stage 2 projects (GUIs) will include goals to store / load datasets. You will define those methods as part of this project. You will use our 40 x 2200 MQTT data, henceforth referred to as our dataframe, as an example, and investigate the fastest ways to store this data to file, and load it back from a file.\n",
    "\n",
    "Note that **many other groups have been instructed to collaborate with you as their extensions**. Your research will be important in optimising our GUIs performance."
   ]
  },
  {
   "cell_type": "markdown",
   "id": "7c8095f4",
   "metadata": {},
   "source": [
    "<div class=\"alert alert-block alert-info\">\n",
    "<b>General Advice</b>\n",
    "\n",
    "> In your groups:\n",
    "> - Start by planning your work\n",
    "> - You will need fundamental functions; try to plan what these should do, what arguments they should take, which should have default values (some default values will need research - ask us!), and what they should return. Don't forget to consider speed and the format of the data (float? int? array of floats? should the array be a certain length?...)\n",
    "> - Ask for feedback on your plan to save time\n",
    "> - Document your functions so others can understand / use / modify them\n",
    "> - Build more complex functions using the fundamental functions, this may require you to go back and modify the fundamental functions.\n",
    "> - Some things are suitable for objects (classes), others are not. Speed and accuracy are important.\n",
    "\n",
    "\n",
    "> When coding a function (unless you have a preferred method):\n",
    "> 1. Plan your code in bullet points / pseudo-code\n",
    "> 2. Template your functions - put comments to say what you want to do\n",
    "> 3. Implement your code step-by-step. Pair programming here is your friend and will catch many mistakes, as well as give 2 people enough experience of the code to help debug it\n",
    "> 4. Test your code and document the testing\n",
    "> 5. Provide standard tests <b>only if requested by Haroon/Esher</b> (define an input with a known output and assert that it is the same, or within a tolerance)    \n",
    "> 6. Provide examples of use for each use case (different behaviour with optional arguments etc)\n",
    "> 7. Turn your functions into objects if suitable\n",
    "> 8. Get feedback from peers / supervisors / team-mates / users\n",
    "\n",
    "> - <b> Make a repository to hold your group project</b> (public so we can all access it at need), try to keep this well organised and easy to navigate / use / find something\n",
    "> - Make a Jupyter notebook for each investigation / function / method: such that future users (perhaps you) can use these notebooks to construct the code required to make future GUIs work\n",
    "> - Feel free to store individual work on your own 'dump' repository, and copy completed work to your group repository\n",
    "\n",
    "\n",
    "</div>"
   ]
  },
  {
   "cell_type": "markdown",
   "id": "6e76c4a1",
   "metadata": {},
   "source": [
    "---\n",
    "## Tasks:\n",
    "\n",
    "- [ ] Function to save dataframe (R5IM and BLM signals in 40 x 2200 2D array) to file, and read data from file back into 2D array python format\n",
    "    - [ ] Consider the number of significant figures to store / load, the formatting of the file etc\n",
    "    - [ ] Investigate different filetypes - start with .csv, then investigate other options e.g. .dat (ASCII text file), ...?\n",
    "    - [ ] Investigate different data structures - pandas, polars, pyarrow? Most will have inbuilt functions to read/write to file, but there may be overhead (extra time taken) in converting data into different python formats\n",
    "    - [ ] Compare speed and accuracy\n",
    "- [ ] Using your research from above or otherwise, define fast and accurate methods to:\n",
    "    - [ ] Save arbitrary data to an easy-to-use filetype\n",
    "    - [ ] Load arbitrary data from the same filetype\n",
    "    - These methods will be used to store data from GUIs, and to load configurations to GUIs via 'configuration files'\n",
    "\n",
    "### Extensions:\n",
    "Complete all tasks before starting extensions\n",
    "\n",
    "- [ ] **Collaborate with all other projects that request your input**\n",
    "- [ ] **Collaborate with Project_1_A: Data Verification:** Define configuration file template for BLM / R5IM selection\n",
    "- [ ]  **Collaborate with Project_1_B: Statistics:** read time selection / splitting boundaries from a configuration file"
   ]
  },
  {
   "cell_type": "markdown",
   "id": "1508497d",
   "metadata": {},
   "source": [
    "### Goal\n",
    "#### Provide methods (functions / classes) to:\n",
    "- [ ] Allow the user to store and load MQTT signal dataframe (40 x 2200 data points) to/from a .csv file\n",
    "- [ ] Allow the user to store and load MQTT signal dataframe (40 x 2200 data points) to/from other file types if faster\n",
    "- [ ] Define fast and accurate methods for storing data to file\n",
    "- [ ] Define fast and accurate methods for loading data from file\n",
    "- [ ] Define template configuration files that can be used to store / set / load important parameters for future GUIs\n",
    "- [ ] Optimise the storing / loading of data from configuration files"
   ]
  },
  {
   "cell_type": "code",
   "execution_count": null,
   "id": "042a42c7",
   "metadata": {},
   "outputs": [],
   "source": []
  }
 ],
 "metadata": {
  "kernelspec": {
   "display_name": "Python 3 (ipykernel)",
   "language": "python",
   "name": "python3"
  },
  "language_info": {
   "codemirror_mode": {
    "name": "ipython",
    "version": 3
   },
   "file_extension": ".py",
   "mimetype": "text/x-python",
   "name": "python",
   "nbconvert_exporter": "python",
   "pygments_lexer": "ipython3",
   "version": "3.11.3"
  }
 },
 "nbformat": 4,
 "nbformat_minor": 5
}
