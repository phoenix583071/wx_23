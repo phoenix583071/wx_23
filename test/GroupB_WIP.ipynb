{
 "cells": [
  {
   "cell_type": "code",
   "execution_count": 1,
   "id": "05550151",
   "metadata": {},
   "outputs": [],
   "source": [
    "import glob\n",
    "import pandas as pd\n",
    "#import random\n",
    "#import paho.mqtt.client as mqtt\n",
    "import string\n",
    "import time\n",
    "import matplotlib.pyplot as plt\n",
    "import numpy as np\n",
    "import statistics #To find mean"
   ]
  },
  {
   "cell_type": "code",
   "execution_count": 25,
   "id": "7481881f",
   "metadata": {},
   "outputs": [],
   "source": [
    "files = glob.glob(r\"C:\\Users\\zhj66962\\Desktop\\wx_stage_1_projects\\01_projects\\BLM_R5IM_Data\\cycle\" + '/*.csv')"
   ]
  },
  {
   "cell_type": "code",
   "execution_count": 26,
   "id": "4c808af8",
   "metadata": {},
   "outputs": [
    {
     "name": "stdout",
     "output_type": "stream",
     "text": [
      "C:\\Users\\zhj66962\\Desktop\\wx_stage_1_projects\\01_projects\\BLM_R5IM_Data\\cycle\\26_05_2023_00_35_36_034042.csv\n",
      "C:\\Users\\zhj66962\\Desktop\\wx_stage_1_projects\\01_projects\\BLM_R5IM_Data\\cycle\\26_05_2023_00_35_36_926089.csv\n",
      "C:\\Users\\zhj66962\\Desktop\\wx_stage_1_projects\\01_projects\\BLM_R5IM_Data\\cycle\\26_05_2023_00_35_38_236517.csv\n",
      "C:\\Users\\zhj66962\\Desktop\\wx_stage_1_projects\\01_projects\\BLM_R5IM_Data\\cycle\\26_05_2023_00_35_39_115167.csv\n",
      "C:\\Users\\zhj66962\\Desktop\\wx_stage_1_projects\\01_projects\\BLM_R5IM_Data\\cycle\\26_05_2023_00_35_39_949234.csv\n",
      "C:\\Users\\zhj66962\\Desktop\\wx_stage_1_projects\\01_projects\\BLM_R5IM_Data\\cycle\\26_05_2023_00_35_41_013048.csv\n",
      "C:\\Users\\zhj66962\\Desktop\\wx_stage_1_projects\\01_projects\\BLM_R5IM_Data\\cycle\\26_05_2023_00_35_42_031331.csv\n",
      "C:\\Users\\zhj66962\\Desktop\\wx_stage_1_projects\\01_projects\\BLM_R5IM_Data\\cycle\\26_05_2023_00_35_43_025596.csv\n",
      "C:\\Users\\zhj66962\\Desktop\\wx_stage_1_projects\\01_projects\\BLM_R5IM_Data\\cycle\\26_05_2023_00_35_44_019355.csv\n",
      "C:\\Users\\zhj66962\\Desktop\\wx_stage_1_projects\\01_projects\\BLM_R5IM_Data\\cycle\\26_05_2023_00_35_45_049643.csv\n",
      "C:\\Users\\zhj66962\\Desktop\\wx_stage_1_projects\\01_projects\\BLM_R5IM_Data\\cycle\\26_05_2023_00_35_45_987319.csv\n",
      "C:\\Users\\zhj66962\\Desktop\\wx_stage_1_projects\\01_projects\\BLM_R5IM_Data\\cycle\\26_05_2023_00_35_48_010611.csv\n",
      "C:\\Users\\zhj66962\\Desktop\\wx_stage_1_projects\\01_projects\\BLM_R5IM_Data\\cycle\\26_05_2023_00_35_48_369257.csv\n",
      "C:\\Users\\zhj66962\\Desktop\\wx_stage_1_projects\\01_projects\\BLM_R5IM_Data\\cycle\\26_05_2023_00_35_49_086323.csv\n",
      "C:\\Users\\zhj66962\\Desktop\\wx_stage_1_projects\\01_projects\\BLM_R5IM_Data\\cycle\\26_05_2023_00_35_50_079591.csv\n",
      "C:\\Users\\zhj66962\\Desktop\\wx_stage_1_projects\\01_projects\\BLM_R5IM_Data\\cycle\\26_05_2023_00_35_51_063682.csv\n",
      "C:\\Users\\zhj66962\\Desktop\\wx_stage_1_projects\\01_projects\\BLM_R5IM_Data\\cycle\\26_05_2023_00_35_52_020982.csv\n",
      "C:\\Users\\zhj66962\\Desktop\\wx_stage_1_projects\\01_projects\\BLM_R5IM_Data\\cycle\\26_05_2023_00_35_53_032674.csv\n"
     ]
    }
   ],
   "source": [
    "for file in files:\n",
    "    print(file)"
   ]
  },
  {
   "cell_type": "code",
   "execution_count": 27,
   "id": "14400853",
   "metadata": {},
   "outputs": [],
   "source": [
    "selected_file = files[5]"
   ]
  },
  {
   "cell_type": "code",
   "execution_count": 28,
   "id": "4d7c5c6f",
   "metadata": {},
   "outputs": [],
   "source": [
    "input_data = pd.read_csv(selected_file)\n",
    "array = input_data.drop(columns = input_data.columns[0]).to_numpy()"
   ]
  },
  {
   "cell_type": "code",
   "execution_count": 29,
   "id": "91ef77fa",
   "metadata": {},
   "outputs": [
    {
     "data": {
      "text/plain": [
       "array([[-4.99939013e+00, -4.99939013e+00, -4.99939013e+00, ...,\n",
       "        -4.99939013e+00, -4.99939013e+00, -4.99939013e+00],\n",
       "       [-4.87999991e-03, -4.26999992e-03, -4.26999992e-03, ...,\n",
       "        -6.09999988e-03, -3.65999993e-03, -4.26999992e-03],\n",
       "       [-1.21999998e-03, -6.09999988e-04, -6.09999988e-04, ...,\n",
       "         1.21999998e-03,  4.87999991e-03,  4.26999992e-03],\n",
       "       ...,\n",
       "       [ 1.82999996e-03,  1.21999998e-03,  4.26999992e-03, ...,\n",
       "        -1.21999998e-03,  2.43999995e-03,  1.21999998e-03],\n",
       "       [-3.04999994e-03, -1.82999996e-03, -1.21999998e-03, ...,\n",
       "         1.21999998e-03, -2.43999995e-03,  6.09999988e-04],\n",
       "       [ 3.53999995e-02,  3.60100009e-02,  3.66199985e-02, ...,\n",
       "         2.31899992e-02,  2.25799996e-02,  2.25799996e-02]])"
      ]
     },
     "execution_count": 29,
     "metadata": {},
     "output_type": "execute_result"
    }
   ],
   "source": [
    "array"
   ]
  },
  {
   "cell_type": "markdown",
   "id": "7edcd384",
   "metadata": {},
   "source": [
    "# Group 1B - Statistics"
   ]
  },
  {
   "cell_type": "markdown",
   "id": "3563fb68",
   "metadata": {},
   "source": [
    "Displaying various statistical properties of:\n",
    "- Individual signal; for example the sum of an individual signal, mean, \n",
    "- Individual signal over time; for example the cumulative mean (AKA rolling average), and RMS\n",
    "- Selection of signals; for example sum / mean of a selection of BLMs\n",
    "- Selection of signals over time; for example a rolling average of the sum of all BLMs"
   ]
  },
  {
   "cell_type": "markdown",
   "id": "41ef4259",
   "metadata": {},
   "source": [
    "# Functions (1st version)"
   ]
  },
  {
   "cell_type": "markdown",
   "id": "eafae176",
   "metadata": {},
   "source": [
    "Original problems:\n",
    "- FOR loops were slowing down code\n",
    "- Redundancy in functions\n",
    "\n",
    "Solutions:\n",
    "- Smaller self-contained functions \n",
    "- Imported statistics to use mean function\n",
    "- Also used built in library to remove need for FOR loops"
   ]
  },
  {
   "cell_type": "code",
   "execution_count": 13,
   "id": "c3ceab02",
   "metadata": {},
   "outputs": [],
   "source": [
    "def sumOfNumbers(signal):\n",
    "     print(sum(array[signal])) #From 0-39, which BLM signal to use"
   ]
  },
  {
   "cell_type": "code",
   "execution_count": 56,
   "id": "a502ff7b",
   "metadata": {},
   "outputs": [],
   "source": [
    "def meanOfNumbers(signal):\n",
    "     print(statistics.mean(array[signal]))"
   ]
  },
  {
   "cell_type": "code",
   "execution_count": 57,
   "id": "7d4a6e46",
   "metadata": {},
   "outputs": [],
   "source": [
    "def sumOfNumbersTime(signal, startTime, endTime):\n",
    "     startOfNumbers = ((startTime+0.5)/11)*2200\n",
    "     endOfNumbers = (((endTime+0.5)/11)*2200)\n",
    "     print(sum(array[signal][int(startOfNumbers):int(endOfNumbers)]))"
   ]
  },
  {
   "cell_type": "code",
   "execution_count": 58,
   "id": "01987334",
   "metadata": {},
   "outputs": [],
   "source": [
    "def meanOfNumbersTime(signal, startTime, endTime):\n",
    "     startOfNumbers = ((startTime+0.5)/11)*2200\n",
    "     endOfNumbers = (((endTime+0.5)/11)*2200) \n",
    "     print(statistics.mean(array[signal][int(startOfNumbers):int(endOfNumbers)]))"
   ]
  },
  {
   "cell_type": "code",
   "execution_count": 59,
   "id": "2256d6e0",
   "metadata": {},
   "outputs": [
    {
     "name": "stdout",
     "output_type": "stream",
     "text": [
      "-16.2521399417892\n",
      "0.02456116367131472\n",
      "3.4539399482309716\n",
      "0.004317424935288677\n"
     ]
    }
   ],
   "source": [
    "w = sumOfNumbers(3)\n",
    "x = meanOfNumbers(5)\n",
    "y = sumOfNumbersTime(2, 3, 7)\n",
    "x = meanOfNumbersTime(2, 3, 7)"
   ]
  },
  {
   "cell_type": "markdown",
   "id": "ef1526f8",
   "metadata": {},
   "source": [
    "# Test data - using an array full of 1s (1st version)"
   ]
  },
  {
   "cell_type": "markdown",
   "id": "eccf77cc",
   "metadata": {},
   "source": [
    "We created an array full of 1s to test functions, expecting the mean to always be 1, and the sum being the number of data points."
   ]
  },
  {
   "cell_type": "code",
   "execution_count": 2,
   "id": "70f1be78",
   "metadata": {},
   "outputs": [],
   "source": [
    "row = 39\n",
    "col = 2200\n",
    "valueToFill = 1\n",
    "arrayOf1s = np.full((row,col),valueToFill)"
   ]
  },
  {
   "cell_type": "code",
   "execution_count": 3,
   "id": "aa88ef39",
   "metadata": {},
   "outputs": [],
   "source": [
    "def sumOfNumbers(signal):\n",
    "     return(sum(arrayOf1s[signal])) #From 0-39, which BLM signal to use"
   ]
  },
  {
   "cell_type": "code",
   "execution_count": 4,
   "id": "ffdc7d93",
   "metadata": {},
   "outputs": [],
   "source": [
    "def meanOfNumbers(signal):\n",
    "     return(statistics.mean(arrayOf1s[signal]))"
   ]
  },
  {
   "cell_type": "code",
   "execution_count": 6,
   "id": "6b407d6c",
   "metadata": {},
   "outputs": [],
   "source": [
    "def sumOfNumbersTime(signal, startTime, endTime):\n",
    "     startOfNumbers = ((startTime+0.5)/11)*2200\n",
    "     endOfNumbers = (((endTime+0.5)/11)*2200)\n",
    "     return (sum(arrayOf1s[signal][int(startOfNumbers):int(endOfNumbers)]))"
   ]
  },
  {
   "cell_type": "code",
   "execution_count": 8,
   "id": "d6c2b0f1",
   "metadata": {},
   "outputs": [],
   "source": [
    "def meanOfNumbersTime(signal, startTime, endTime):\n",
    "     startOfNumbers = ((startTime+0.5)/11)*2200\n",
    "     endOfNumbers = (((endTime+0.5)/11)*2200) \n",
    "     return (statistics.mean(arrayOf1s[signal][int(startOfNumbers):int(endOfNumbers)]))"
   ]
  },
  {
   "cell_type": "code",
   "execution_count": 9,
   "id": "548be247",
   "metadata": {},
   "outputs": [
    {
     "name": "stdout",
     "output_type": "stream",
     "text": [
      "2200 1 800 1\n"
     ]
    }
   ],
   "source": [
    "w = sumOfNumbers(3)\n",
    "x = meanOfNumbers(5)\n",
    "y = sumOfNumbersTime(2, 3, 7)\n",
    "z = meanOfNumbersTime(2, 3, 7)\n",
    "print(w, x, y, z)"
   ]
  },
  {
   "cell_type": "markdown",
   "id": "b585555a",
   "metadata": {},
   "source": [
    "# Cumulative functions"
   ]
  },
  {
   "cell_type": "markdown",
   "id": "a63ec1d3",
   "metadata": {},
   "source": [
    "A rolling mean and sum of signals over time - in real time when new data is submitted"
   ]
  },
  {
   "cell_type": "markdown",
   "id": "3eaa65d1",
   "metadata": {},
   "source": [
    "Improvements/Future plans: \n",
    "- To integrate into the rest of the code \n",
    "- Make the number of data points and time period adjustable by user - started below but not finished.\n",
    "- Create a function that finds rolling mean/sum of the last N signals"
   ]
  },
  {
   "cell_type": "code",
   "execution_count": 30,
   "id": "c156d268",
   "metadata": {},
   "outputs": [],
   "source": [
    "startTime = -0.5\n",
    "endTime = 10.5\n",
    "nOfData = 2200\n",
    "#timeDiff = endTime - startTime \n",
    "dataPerSec = nOfData / (endTime - startTime)"
   ]
  },
  {
   "cell_type": "code",
   "execution_count": 67,
   "id": "42e75c5d",
   "metadata": {},
   "outputs": [],
   "source": [
    "#def cumulativeSum(total, dataArray):\n",
    "    #total += dataArray\n",
    "    #return total\n",
    "\n",
    "#def cumulativeMean(total, count):\n",
    "    #mean = total/count\n",
    "    #print(\"mean\", mean)\n",
    "\n",
    "\n",
    "x = 0\n",
    "y = 1\n",
    "\n",
    "\n",
    "def cumulativeWithTimes(indexLength, counter, prevIndexTotal, data, x, y, i):\n",
    "    if (y+1) <= len(index):\n",
    "        if (index[x]-startTime)*dataPerSec <= i <= (index[y]-startTime)*dataPerSec:\n",
    "            counter += 1\n",
    "            indexTotal = prevIndexTotal + data\n",
    "            \n",
    "            \n",
    "            if (index[y]+0.5)*200 ==  i:\n",
    "                #allIndexTotals.append(indexTotal)\n",
    "                x = y\n",
    "                y += 1\n",
    "                counter = 0\n",
    "            \n",
    "            return indexTotal, indexTotal/counter, counter, x, y\n",
    "\n",
    "\n",
    "#counter = 0\n",
    "\n",
    "index = [-0.5, 6]          #Change index manually. can be as long\n",
    "indexLength = len(index)\n",
    "\n",
    "#allIndexTotals = []\n",
    "    \n",
    "total = 0\n",
    "indexTotal = 0\n",
    "dataArray = array[0]\n",
    "\n",
    "#x = 0\n",
    "#y = 1\n",
    "\n",
    "cumulate = [0, 0, 0]\n",
    "\n",
    "\n",
    "#cumulate = cumulativeWithTimes(indexLength, cumulate[2], cumulate[0], 0, x, y, -1)\n",
    "\n",
    "# for i in range (nOfData):\n",
    "#     data = dataArray[i]\n",
    "#     #total = cumulativeSum(total, data)    \n",
    "    \n",
    "#     #total += data\n",
    "#     #total = total/(i + 1)\n",
    "    \n",
    "    \n",
    "    \n",
    "#     #cumulativeMean(total, i + 1)\n",
    "    \n",
    "    \n",
    "# #     if (y+1) <= len(index):\n",
    "# #         if (index[x]-startTime)*dataPerSec <= i <= (index[y]-startTime)*dataPerSec:\n",
    "# #             counter += 1\n",
    "# #             indexTotal += data\n",
    "# #             print(\"total of section\", indexTotal)\n",
    "# #             print(\"mean of section\", indexTotal/counter)\n",
    "# #             if (index[y]+0.5)*200 ==  i:\n",
    "# #                 allIndexTotals.append(indexTotal)\n",
    "# #                 x = y\n",
    "# #                 y += 1\n",
    "# #                 counter = 0\n",
    "\n",
    "#     #cumulate = cumulativeWithTimes(len(index), counter, total, data)\n",
    "\n",
    "#     cumulate = cumulativeWithTimes(indexLength, cumulate[2], cumulate[0], data, x, y, i)\n",
    "#     print(\"cumulative total\", cumulate[0], \"\\n cumulative mean\", cumulate[1])\n",
    "\n",
    "    \n",
    "    \n",
    "    \n",
    "    \n",
    "#     time.sleep(1)\n",
    "    \n",
    "# #print(allIndexTotals)"
   ]
  },
  {
   "cell_type": "markdown",
   "id": "447bfb99",
   "metadata": {},
   "source": [
    "# Improving efficiency - Functions (2nd version)"
   ]
  },
  {
   "cell_type": "markdown",
   "id": "5e02fc52",
   "metadata": {},
   "source": [
    "Improvements made:\n",
    "- Creating a class \n",
    "- Removing redundancies \n",
    "\n",
    "Future plans:\n",
    "- Combine this with cumulative functions "
   ]
  },
  {
   "cell_type": "code",
   "execution_count": 57,
   "id": "51a2dd06",
   "metadata": {},
   "outputs": [],
   "source": [
    "class statsClass: \n",
    "          \n",
    "     def sumOfNumbers(self, signal):\n",
    "          return (sum(array[signal]))\n",
    "\n",
    "\n",
    "     def meanOfNumbers(self, signal):\n",
    "          return (statistics.mean(array[signal]))\n",
    "\n",
    "     def time(self, times):           #finds the relative position of a time in the 2200 data points\n",
    "          return list(map(lambda t: (round((t+0.5)*dataPerSec)), times))  #Lambda is a keyword that allows you to define a function in one line and use immediately.\n",
    "                                                                   # map excecutes a specified function in a list without an explicit loop.\n",
    "            \n",
    "\n",
    "     def pairs(self, listOfTimes):     #pairs time boundaries together eg. -0.5 to 3.0, 3.0 to 4.5\n",
    "          return list(zip(listOfTimes, listOfTimes[1:])) #zip returns an iterator of tuples, with two items paired together in each\n",
    "\n",
    "     def sumWithTimes(self, signal, pairsList):   #sum of data points between specified boundaries\n",
    "          return ([sum(array[signal][start:end]) for start, end in pairsList])\n",
    "\n",
    "     def meanWithTimes(self, signal, pairsList):     #mean of data points between specified boundaries\n",
    "          return ([statistics.mean(array[signal][start:end]) for start, end in pairsList])\n"
   ]
  },
  {
   "cell_type": "code",
   "execution_count": 1,
   "id": "5605fb55",
   "metadata": {},
   "outputs": [
    {
     "ename": "NameError",
     "evalue": "name 'statsClass' is not defined",
     "output_type": "error",
     "traceback": [
      "\u001b[1;31m---------------------------------------------------------------------------\u001b[0m",
      "\u001b[1;31mNameError\u001b[0m                                 Traceback (most recent call last)",
      "Cell \u001b[1;32mIn[1], line 1\u001b[0m\n\u001b[1;32m----> 1\u001b[0m stats \u001b[38;5;241m=\u001b[39m \u001b[43mstatsClass\u001b[49m()\n\u001b[0;32m      3\u001b[0m sumTest \u001b[38;5;241m=\u001b[39m stats\u001b[38;5;241m.\u001b[39msumOfNumbers(\u001b[38;5;241m3\u001b[39m)\n\u001b[0;32m      4\u001b[0m meanTest \u001b[38;5;241m=\u001b[39m stats\u001b[38;5;241m.\u001b[39mmeanOfNumbers(\u001b[38;5;241m5\u001b[39m)\n",
      "\u001b[1;31mNameError\u001b[0m: name 'statsClass' is not defined"
     ]
    }
   ],
   "source": [
    "stats = statsClass()\n",
    "\n",
    "sumTest = stats.sumOfNumbers(3)\n",
    "meanTest = stats.meanOfNumbers(5)\n",
    "timeTest = stats.time([-0.5, 0.0, 3.0, 4.6, 5.5],startTime, endTime, nOfData)\n",
    "pairTest = stats.pairs(timeTest)\n",
    "sumWithTimeTest = stats.sumWithTimes(2, pairTest)\n",
    "meanmWithTimesTest = stats.meanWithTimes(2, pairTest)\n",
    "\n",
    "cumulate = [0, 0, 0, 0, 1, 0]\n",
    "for ii in range(nOfData):\n",
    "    cumulate = cumulativeWithTimes([-0.5, 5], cumulate[2], cumulate[0], array[2][i], cumulate[3], cumulate[4], cumulate[5])\n",
    "    print(\"cumulative total\", cumulate[0], \"\\n cumulative mean\", cumulate[1])\n",
    "    time.sleep(1)"
   ]
  },
  {
   "cell_type": "code",
   "execution_count": 31,
   "id": "f7089600",
   "metadata": {},
   "outputs": [],
   "source": [
    "class statsClass: \n",
    "          \n",
    "    def sumOfNumbers(self, signal):\n",
    "        return(sum(array[signal]))\n",
    "\n",
    "\n",
    "    def meanOfNumbers(self, signal):\n",
    "        return(statistics.mean(array[signal]))\n",
    "\n",
    "    def time(self, times, startTime, endTime, dataPoints):           #finds the relative position of a time in the 2200 data points\n",
    "        return list(map(lambda t: (round(((t-startTime)/(endTime - startTime))*dataPoints)), times))  #Lambda is a keyword that allows you to define a function in one line and use immediately.\n",
    "                                                                   # map excecutes a specified function in a list without an explicit loop.\n",
    "            \n",
    "    def pairs(self, listOfTimes):     #pairs time boundaries together eg. -0.5 to 3.0, 3.0 to 4.5\n",
    "        return list(zip(listOfTimes, listOfTimes[1:])) #zip returns an iterator of tuples, with two items paired together in each\n",
    "\n",
    "    def sumWithTimes(self, signal, pairsList):   #sum of data points between specified boundaries\n",
    "        return([sum(array[signal][start:end]) for start, end in pairsList])\n",
    "\n",
    "    def meanWithTimes(self, signal, pairsList):     #mean of data points between specified boundaries\n",
    "        return([statistics.mean(array[signal][start:end]) for start, end in pairsList])\n",
    "            \n",
    "    def cumulativeWithTimes(self, index, counter, prevIndexTotal, data, x, y, i, time):\n",
    "        i += 1\n",
    "        if (y+1) <= len(index):\n",
    "            #if (index[x]-startTime)/(*dataPerSec <= i <= (index[y]-startTime)*dataPerSec:\n",
    "            if time[x] <= i <= time[y]:\n",
    "                counter += 1\n",
    "                indexTotal = prevIndexTotal + data            \n",
    "            \n",
    "                if time[y] ==  i:\n",
    "                    #allIndexTotals.append(indexTotal)\n",
    "                    x = y\n",
    "                    y += 1\n",
    "                    counter = 0\n",
    "                print(\"cumulative total\", indexTotal, \"\\n cumulative mean\", indexTotal/counter)\n",
    "                return [indexTotal, indexTotal/counter, counter, x, y, i]\n",
    "        return[0,0,0,0,i]\n",
    "    \n",
    "    def cumulateNTimes(self, nList, currentData):\n",
    "        nList.append(currentData)\n",
    "        nList.pop(0)\n",
    "        return nList"
   ]
  },
  {
   "cell_type": "code",
   "execution_count": 35,
   "id": "3f3fe1ad",
   "metadata": {
    "scrolled": false
   },
   "outputs": [
    {
     "name": "stdout",
     "output_type": "stream",
     "text": [
      "-16.2521399417892\n",
      "0.02456116367131472\n",
      "[1.5398800000548334, 5.5212800051085615, 1.6226899791508813, 0.7698499881662341]\n",
      "[0.01539880000054832, 0.00920213334184756, 0.005070906184846484, 0.004276944378701301]\n",
      "sum of last n:  -0.0012199999764561\n",
      "cumulative total -0.000609999988228 \n",
      " cumulative mean -0.000609999988228\n",
      "sum of last n:  -0.0018299999646841\n",
      "cumulative total -0.001219999976456 \n",
      " cumulative mean -0.000609999988228\n",
      "sum of last n:  -0.0024399999529121\n",
      "cumulative total 9.996344030316351e-17 \n",
      " cumulative mean 3.332114676772117e-17\n",
      "sum of last n:  -0.0012199999764559999\n",
      "cumulative total 0.0024399999529124 \n",
      " cumulative mean 0.0006099999882281\n",
      "sum of last n:  0.0012199999764563\n",
      "cumulative total 0.0030499999411404003 \n",
      " cumulative mean 0.0006099999882280801\n",
      "sum of last n:  0.0030499999411404003\n",
      "cumulative total 0.0042699999175965005 \n",
      " cumulative mean 0.0007116666529327501\n",
      "sum of last n:  0.0048799999058245\n",
      "cumulative total 0.009759999811649201 \n",
      " cumulative mean 0.0013942856873784572\n",
      "sum of last n:  0.0109799997881052\n",
      "cumulative total 0.01585999969393 \n",
      " cumulative mean 0.00198249996174125\n",
      "sum of last n:  0.0158599996939299\n",
      "cumulative total 0.0189099996350704 \n",
      " cumulative mean 0.0021011110705633777\n",
      "sum of last n:  0.016469999682158\n",
      "cumulative total 0.024399999529123098 \n",
      " cumulative mean 0.00243999995291231\n",
      "sum of last n:  0.0213499995879827\n",
      "cumulative total 0.029889999423175797 \n",
      " cumulative mean 0.0027172726748341636\n",
      "sum of last n:  0.025619999505579298\n",
      "cumulative total 0.0347699993290004 \n",
      " cumulative mean 0.0028974999440833666\n",
      "sum of last n:  0.025009999517351198\n",
      "cumulative total 0.0426999996416267 \n",
      " cumulative mean 0.0032846153570482077\n",
      "sum of last n:  0.0268399999476967\n",
      "cumulative total 0.0475799995474513 \n",
      " cumulative mean 0.0033985713962465212\n",
      "sum of last n:  0.028669999912380898\n",
      "cumulative total 0.053069999441504 \n",
      " cumulative mean 0.0035379999627669335\n",
      "sum of last n:  0.028669999912380898\n"
     ]
    },
    {
     "ename": "KeyboardInterrupt",
     "evalue": "",
     "output_type": "error",
     "traceback": [
      "\u001b[1;31m---------------------------------------------------------------------------\u001b[0m",
      "\u001b[1;31mKeyboardInterrupt\u001b[0m                         Traceback (most recent call last)",
      "Cell \u001b[1;32mIn[35], line 26\u001b[0m\n\u001b[0;32m     23\u001b[0m \u001b[38;5;66;03m#print(lastNNumbers)\u001b[39;00m\n\u001b[0;32m     24\u001b[0m \u001b[38;5;28mprint\u001b[39m(\u001b[38;5;124m\"\u001b[39m\u001b[38;5;124msum of last n: \u001b[39m\u001b[38;5;124m\"\u001b[39m, \u001b[38;5;28msum\u001b[39m(lastNNumbers))\n\u001b[1;32m---> 26\u001b[0m \u001b[43mtime\u001b[49m\u001b[38;5;241;43m.\u001b[39;49m\u001b[43msleep\u001b[49m\u001b[43m(\u001b[49m\u001b[38;5;241;43m1\u001b[39;49m\u001b[43m)\u001b[49m\n",
      "\u001b[1;31mKeyboardInterrupt\u001b[0m: "
     ]
    }
   ],
   "source": [
    "stats = statsClass()\n",
    "\n",
    "sumTest = stats.sumOfNumbers(3)\n",
    "meanTest = stats.meanOfNumbers(5)\n",
    "timeTest = stats.time([-0.5, 0.0, 3.0, 4.6, 5.5],-0.5,10.5,2200)\n",
    "pairTest = stats.pairs(timeTest)\n",
    "sumWithTimeTest = stats.sumWithTimes(2, pairTest)\n",
    "meanmWithTimesTest = stats.meanWithTimes(2, pairTest)\n",
    "\n",
    "\n",
    "cumulate = [0, 0, 0, 0, 0]\n",
    "\n",
    "n = 5\n",
    "nList = [0]*n\n",
    "\n",
    "for i in range(nOfData):\n",
    "    \n",
    "    cumulate1 = stats.cumulativeWithTimes([-0.5, 5, 7], cumulate[2], cumulate[0], array[2][i], cumulate[3], cumulate[4], i, timeTest)\n",
    "    cumulate = cumulate1\n",
    "    #print(\"cumulative total\", cumulate[0], \"\\n cumulative mean\", cumulate[1])\n",
    "    \n",
    "    lastNNumbers = stats.cumulateNTimes(nList, array[2][i])\n",
    "    #print(lastNNumbers)\n",
    "    print(\"sum of last n: \", sum(lastNNumbers))\n",
    "    \n",
    "    time.sleep(1)"
   ]
  },
  {
   "cell_type": "code",
   "execution_count": null,
   "id": "9770108f",
   "metadata": {},
   "outputs": [],
   "source": [
    "cumulate = [0, 0, 0, 0, 0]\n",
    "\n",
    "cumulated = stats.cumulativeWithTimes([0, 5], cumulate[2], cumulate[0], array[2][i], cumulate[3], cumulate[4], i)\n",
    "#print(\"cumulative total\", cumulate[0], \"\\ncumulative mean\", cumulate[1])\n",
    "cumulated"
   ]
  }
 ],
 "metadata": {
  "kernelspec": {
   "display_name": "Python 3 (ipykernel)",
   "language": "python",
   "name": "python3"
  },
  "language_info": {
   "codemirror_mode": {
    "name": "ipython",
    "version": 3
   },
   "file_extension": ".py",
   "mimetype": "text/x-python",
   "name": "python",
   "nbconvert_exporter": "python",
   "pygments_lexer": "ipython3",
   "version": "3.10.9"
  }
 },
 "nbformat": 4,
 "nbformat_minor": 5
}
