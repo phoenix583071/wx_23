{
 "cells": [
  {
   "cell_type": "markdown",
   "id": "39ff80e9",
   "metadata": {},
   "source": [
    "# Group B - Stats functions \n",
    "- Import statistics library before using"
   ]
  },
  {
   "cell_type": "markdown",
   "id": "1124b9c6",
   "metadata": {},
   "source": [
    "Authors:\n",
    "\n",
    "Ava,\n",
    "Evelyn,\n",
    "Charlotte"
   ]
  },
  {
   "cell_type": "code",
   "execution_count": 1,
   "id": "99847b25",
   "metadata": {},
   "outputs": [],
   "source": [
    "import glob\n",
    "import pandas as pd\n",
    "#import random\n",
    "#import paho.mqtt.client as mqtt\n",
    "import string\n",
    "import time\n",
    "import matplotlib.pyplot as plt\n",
    "import numpy as np\n",
    "import statistics #To find mean"
   ]
  },
  {
   "cell_type": "code",
   "execution_count": 2,
   "id": "a764ef61",
   "metadata": {},
   "outputs": [],
   "source": [
    "files = glob.glob(r\"C:\\Users\\pty76431\\Desktop\\wx_stage_1_projects\\01_projects\\BLM_R5IM_Data\\cycle\" + '/*.csv')"
   ]
  },
  {
   "cell_type": "code",
   "execution_count": 3,
   "id": "84dd6eb1",
   "metadata": {},
   "outputs": [],
   "source": [
    "selected_file = files[5]\n",
    "input_data = pd.read_csv(selected_file)\n",
    "array = input_data.drop(columns = input_data.columns[0]).to_numpy()"
   ]
  },
  {
   "cell_type": "code",
   "execution_count": 4,
   "id": "2c28f271",
   "metadata": {},
   "outputs": [],
   "source": [
    "startTime = -0.5\n",
    "endTime = 10.5\n",
    "nOfData = 2200\n",
    "#timeDiff = endTime - startTime \n",
    "dataPerSec = nOfData / (endTime - startTime)"
   ]
  },
  {
   "cell_type": "code",
   "execution_count": 5,
   "id": "0259d8f3",
   "metadata": {},
   "outputs": [],
   "source": [
    "class statsClass: \n",
    "    \n",
    "    def __init__(self, array):\n",
    "        self.array = array\n",
    "          \n",
    "    def sumOfNumbers(self, signal):\n",
    "        return list(map(lambda t: sum(array[t]), signal))\n",
    "\n",
    "    def meanOfNumbers(self, signal):\n",
    "#         return (statistics.mean(array[signal]))\n",
    "        return list(map(lambda t: statistics.mean(array[t]), signal))\n",
    "\n",
    "    def time(self, times):           #finds the relative position of a time in the 2200 data points\n",
    "        return list(map(lambda t: (round(((t-startTime)/(endTime - startTime))*nOfData)), times))\n",
    "#return list(map(lambda t: (round(((t-startTime)/(endTime - startTime))*dataPoints)), times))  \n",
    "#Lambda is a keyword that allows you to define a function in one line and use immediately.\n",
    "# map excecutes a specified function in a list without an explicit loop.\n",
    "            \n",
    "    def pairs(self, listOfTimes):     #pairs time boundaries together eg. -0.5 to 3.0, 3.0 to 4.5\n",
    "        return list(zip(listOfTimes, listOfTimes[1:])) \n",
    "    #zip returns an iterator of tuples, with two items paired together in each\n",
    "\n",
    "    def sumWithTimes(self, signal, pairsList): #sum of data points between specified boundaries\n",
    "        return [sum(array[signal][start:end]) for start, end in pairsList]\n",
    "\n",
    "    def meanWithTimes(self, signal, pairsList):     #mean of data points between specified boundaries\n",
    "         return ([statistics.mean(array[signal][start:end]) for start, end in pairsList])\n",
    "        \n",
    "    def cumulativeWithTimes(self, time, prevTotal, counter, data, i):\n",
    "        i += 1\n",
    "        if (y+1) <= len(time):\n",
    "            #if (index[x]-startTime)/(*dataPerSec <= i <= (index[y]-startTime)*dataPerSec:\n",
    "            if time[x] <= i <= time[y]:\n",
    "                counter += 1\n",
    "                total = prevTotal + data            \n",
    "            \n",
    "                if time[y] ==  i:\n",
    "                    #allIndexTotals.append(indexTotal)\n",
    "                    x = y\n",
    "                    y += 1\n",
    "                    #counter = 0\n",
    "                    \n",
    "\n",
    "                    \n",
    "                    return [total, total/counter, 0, x, y, i]\n",
    "                #print(\"cumulative total\", total, \"\\ncumulative mean\", total/counter)\n",
    "                return [total, total/counter, counter, x, y, i]\n",
    "        return[0,0,0,0,i]\n",
    "        #print(\"hello\")\n",
    "    \n",
    "    def cumulateNTimes(self, nList, currentData):\n",
    "        nList.append(currentData)\n",
    "        nList.pop(0)\n",
    "        return nList\n"
   ]
  },
  {
   "cell_type": "markdown",
   "id": "b32e4a84",
   "metadata": {},
   "source": [
    "### Sum of 1 signal \n",
    "- Pass in the number of the BLM to find the sum of"
   ]
  },
  {
   "cell_type": "code",
   "execution_count": 6,
   "id": "f30d2ee8",
   "metadata": {
    "scrolled": true
   },
   "outputs": [
    {
     "name": "stdout",
     "output_type": "stream",
     "text": [
      "[13.067459911573675, -16.2521399417892, -14.157579883467399]\n"
     ]
    }
   ],
   "source": [
    "stats = statsClass(array) # \"array\" in this case can be whatever variable that has been used to store your data set\n",
    "sumExplained = stats.sumOfNumbers([2, 3, 4]) \n",
    "print(sumExplained)"
   ]
  },
  {
   "cell_type": "markdown",
   "id": "29a480da",
   "metadata": {},
   "source": [
    "### Mean of 1 signal\n",
    "- Pass in the number of the BLM to find the overall mean of"
   ]
  },
  {
   "cell_type": "code",
   "execution_count": 7,
   "id": "79b5a1a4",
   "metadata": {},
   "outputs": [
    {
     "name": "stdout",
     "output_type": "stream",
     "text": [
      "[0.005939754505260714, -0.00738733633717686, -0.006435263583394224]\n"
     ]
    }
   ],
   "source": [
    "meanExplained = stats.meanOfNumbers([2, 3, 4])\n",
    "print(meanExplained)"
   ]
  },
  {
   "cell_type": "markdown",
   "id": "e0c72b1b",
   "metadata": {},
   "source": [
    "### Time function\n",
    "- Finds the relative position of a time within the number of data points\n",
    "- Does not return anything (don't worry !!)\n",
    "- Pass in the time boundaries (in milliseconds) that you want to perform stats functions on, the starting time and end time of the full data set, and the number of data points"
   ]
  },
  {
   "cell_type": "code",
   "execution_count": 8,
   "id": "933de374",
   "metadata": {},
   "outputs": [],
   "source": [
    "timeExplained00 = stats.time([1,2])"
   ]
  },
  {
   "cell_type": "code",
   "execution_count": 9,
   "id": "b5e13c5b",
   "metadata": {},
   "outputs": [],
   "source": [
    "timeExplained01 = stats.time([1,2,3,4,5]) #Can pass in as many time boundaries as you want to"
   ]
  },
  {
   "cell_type": "markdown",
   "id": "906a4e8a",
   "metadata": {},
   "source": [
    "### Pairs function\n",
    "- Also doesn't return anything\n",
    "- Pass in previous time function\n",
    "- Will split time boundaries into pairs - (1, 2) (2, 3) (3, 4) (4, 5) - (not actually like this, manipulated times as opposed to 1, 2, 3, etc.)"
   ]
  },
  {
   "cell_type": "code",
   "execution_count": 10,
   "id": "78da47b6",
   "metadata": {},
   "outputs": [
    {
     "name": "stdout",
     "output_type": "stream",
     "text": [
      "[(300, 500), (500, 700), (700, 900), (900, 1100)]\n"
     ]
    }
   ],
   "source": [
    "pairsExplained = stats.pairs(timeExplained01)\n",
    "print(pairsExplained)"
   ]
  },
  {
   "cell_type": "markdown",
   "id": "2494393d",
   "metadata": {},
   "source": [
    "### Sum of data between specified boundaries\n",
    "- Pass in number of BLM and pairs function "
   ]
  },
  {
   "cell_type": "code",
   "execution_count": 11,
   "id": "1a597009",
   "metadata": {},
   "outputs": [
    {
     "name": "stdout",
     "output_type": "stream",
     "text": [
      "[1.928820000030095, 1.6196799958124708, 1.0992999873123963, 0.8881799853406753]\n"
     ]
    }
   ],
   "source": [
    "sumBoundariesExplained = stats.sumWithTimes(2, pairsExplained)\n",
    "print(sumBoundariesExplained)"
   ]
  },
  {
   "cell_type": "markdown",
   "id": "9a9be80f",
   "metadata": {},
   "source": [
    "### Mean of data between specified boundaries \n",
    "- Takes same values as sum function above"
   ]
  },
  {
   "cell_type": "code",
   "execution_count": 12,
   "id": "59f59fd6",
   "metadata": {},
   "outputs": [
    {
     "name": "stdout",
     "output_type": "stream",
     "text": [
      "[0.009644100000150452, 0.00809839997906233, 0.0054964999365619775, 0.0044408999267033745]\n"
     ]
    }
   ],
   "source": [
    "meanBoundariesExplained = stats.meanWithTimes(2, pairsExplained)\n",
    "print(meanBoundariesExplained)"
   ]
  },
  {
   "cell_type": "markdown",
   "id": "f37099a4",
   "metadata": {},
   "source": [
    "# Full example\n",
    "- Finding the mean of signals between 1 and 2 milliseconds"
   ]
  },
  {
   "cell_type": "code",
   "execution_count": 13,
   "id": "775fe0b9",
   "metadata": {
    "scrolled": true
   },
   "outputs": [
    {
     "ename": "TypeError",
     "evalue": "statsClass.time() takes 2 positional arguments but 5 were given",
     "output_type": "error",
     "traceback": [
      "\u001b[1;31m---------------------------------------------------------------------------\u001b[0m",
      "\u001b[1;31mTypeError\u001b[0m                                 Traceback (most recent call last)",
      "Cell \u001b[1;32mIn[13], line 1\u001b[0m\n\u001b[1;32m----> 1\u001b[0m meanBoundariesEx \u001b[38;5;241m=\u001b[39m stats\u001b[38;5;241m.\u001b[39mmeanWithTimes(\u001b[38;5;241m2\u001b[39m,(stats\u001b[38;5;241m.\u001b[39mpairs(\u001b[43mstats\u001b[49m\u001b[38;5;241;43m.\u001b[39;49m\u001b[43mtime\u001b[49m\u001b[43m(\u001b[49m\u001b[43m[\u001b[49m\u001b[38;5;241;43m1\u001b[39;49m\u001b[43m,\u001b[49m\u001b[38;5;241;43m2\u001b[39;49m\u001b[43m]\u001b[49m\u001b[43m,\u001b[49m\u001b[38;5;241;43m-\u001b[39;49m\u001b[38;5;241;43m0.5\u001b[39;49m\u001b[43m,\u001b[49m\u001b[38;5;241;43m10.5\u001b[39;49m\u001b[43m,\u001b[49m\u001b[38;5;241;43m2200\u001b[39;49m\u001b[43m)\u001b[49m)))\n\u001b[0;32m      2\u001b[0m \u001b[38;5;28mprint\u001b[39m(meanBoundariesEx)\n",
      "\u001b[1;31mTypeError\u001b[0m: statsClass.time() takes 2 positional arguments but 5 were given"
     ]
    }
   ],
   "source": [
    "meanBoundariesEx = stats.meanWithTimes(2,(stats.pairs(stats.time([1,2],-0.5,10.5,2200))))\n",
    "print(meanBoundariesEx)"
   ]
  },
  {
   "cell_type": "markdown",
   "id": "cfde3adb",
   "metadata": {},
   "source": [
    "# Cumulative mean and sum of data between specified time boundaries\n",
    "- Parameters\n",
    "    1. Time boundaries - use time function\n",
    "    2. prevTotal - This is what we will add the new data to.\n",
    "    3. Counter - amount of numbers already summed (for mean)\n",
    "    4. Data - current data we are adding (what is being signalled), (when simulated with for loop, use array[beam][i])\n",
    "    5. x - index of first time\n",
    "    6. y - index of second time\n",
    "    7. i - total repeats\n",
    "    \n",
    "- Outputs:\n",
    "    - A list is outputted containing:\n",
    "    0. cumulative total\n",
    "    1. cumulative mean\n",
    "    2. counter\n",
    "    3. x\n",
    "    4. y\n",
    "    5. i\n",
    "    \n",
    "When passing the parameters for the function use the indexes of the outputted list.\n",
    "\n",
    "-Ava"
   ]
  },
  {
   "cell_type": "code",
   "execution_count": null,
   "id": "c156d268",
   "metadata": {},
   "outputs": [],
   "source": [
    "startTime = -0.5\n",
    "endTime = 10.5\n",
    "nOfData = 2200\n",
    "#timeDiff = endTime - startTime \n",
    "dataPerSec = nOfData / (endTime - startTime)"
   ]
  },
  {
   "cell_type": "code",
   "execution_count": null,
   "id": "d4b2dc39",
   "metadata": {
    "scrolled": true
   },
   "outputs": [],
   "source": [
    "timeE = stats.time([-0.5, 1,2])\n",
    "\n",
    "cumulativeExample = [0,0,0,0,0]\n",
    "x = cumulativeExample[3]\n",
    "y = cumulativeExample[4]\n",
    "\n",
    "\n",
    "for i in range(nOfData):\n",
    "    \n",
    "    x = cumulativeExample[3]\n",
    "    y = cumulativeExample[4]\n",
    "    \n",
    "    #cumulativeExample = stats.cumulativeWithTimes(timeE, cumulativeExample[0], cumulativeExample[2], array[2][i], cumulativeExample[3], cumulativeExample[4], i)\n",
    "    cumulativeExample = stats.cumulativeWithTimes(timeE, cumulativeExample[0], cumulativeExample[2], array[2][i], i)\n",
    "    \n",
    "    x = cumulativeExample[3]\n",
    "    y = cumulativeExample[4]\n",
    "    \n",
    "    time.sleep(1)"
   ]
  },
  {
   "cell_type": "markdown",
   "id": "36efd2fc",
   "metadata": {},
   "source": [
    "## cumulateNTimes\n",
    "\n",
    "<u>Function Description:</u>\n",
    "- creates a list of the last n signals\n",
    "\n",
    "before use in the loop, define n\n",
    "then create a list of n zeros\n",
    "\n",
    "inputs \n",
    "- list of n zeros\n",
    "- Data - current data we are adding (what is being signalled), (when simulated with for loop, use array[beam][i])\n",
    "\n",
    "Outputs:\n",
    "- array of last n numbers\n",
    "\n",
    "Uses:\n",
    "to find total of these, use in conjunction with python sum function\n",
    "to find mean, divide this sum by n"
   ]
  },
  {
   "cell_type": "code",
   "execution_count": null,
   "id": "97a2deee",
   "metadata": {},
   "outputs": [],
   "source": [
    "n = 5 #####set to whatever\n",
    "nList = [0]*n   #creates an empty list with n items\n",
    "\n",
    "for i in range(nOfData):\n",
    "    lastNNumbers = stats.cumulateNTimes(nList, array[2][i])\n",
    "    print(lastNNumbers)\n",
    "    print(\"sum of last n: \", sum(lastNNumbers))\n",
    "    print(\"mean of last n: \", sum(lastNNumbers)/n)"
   ]
  },
  {
   "cell_type": "code",
   "execution_count": null,
   "id": "27c65820",
   "metadata": {},
   "outputs": [],
   "source": []
  }
 ],
 "metadata": {
  "kernelspec": {
   "display_name": "Python 3 (ipykernel)",
   "language": "python",
   "name": "python3"
  },
  "language_info": {
   "codemirror_mode": {
    "name": "ipython",
    "version": 3
   },
   "file_extension": ".py",
   "mimetype": "text/x-python",
   "name": "python",
   "nbconvert_exporter": "python",
   "pygments_lexer": "ipython3",
   "version": "3.10.9"
  }
 },
 "nbformat": 4,
 "nbformat_minor": 5
}
