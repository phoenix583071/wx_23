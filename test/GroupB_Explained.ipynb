{
 "cells": [
  {
   "cell_type": "markdown",
   "id": "39ff80e9",
   "metadata": {},
   "source": [
    "# Group B - Stats functions \n",
    "- Import statistics library before using"
   ]
  },
  {
   "cell_type": "code",
   "execution_count": 38,
   "id": "99847b25",
   "metadata": {},
   "outputs": [],
   "source": [
    "import glob\n",
    "import pandas as pd\n",
    "#import random\n",
    "#import paho.mqtt.client as mqtt\n",
    "import string\n",
    "import time\n",
    "import matplotlib.pyplot as plt\n",
    "import numpy as np\n",
    "import statistics #To find mean"
   ]
  },
  {
   "cell_type": "code",
   "execution_count": 41,
   "id": "a764ef61",
   "metadata": {},
   "outputs": [],
   "source": [
    "files = glob.glob(r\"C:\\Users\\pty76431\\Desktop\\wx_stage_1_projects\\01_projects\\BLM_R5IM_Data\\cycle\" + '/*.csv')"
   ]
  },
  {
   "cell_type": "code",
   "execution_count": 42,
   "id": "84dd6eb1",
   "metadata": {},
   "outputs": [],
   "source": [
    "selected_file = files[5]\n",
    "input_data = pd.read_csv(selected_file)\n",
    "array = input_data.drop(columns = input_data.columns[0]).to_numpy()"
   ]
  },
  {
   "cell_type": "code",
   "execution_count": 43,
   "id": "0259d8f3",
   "metadata": {},
   "outputs": [],
   "source": [
    "class statsClass: \n",
    "    \n",
    "    def __init__(self, array):\n",
    "        self.array = array\n",
    "          \n",
    "    def sumOfNumbers(self, signal):\n",
    "        return (sum(array[signal]))\n",
    "\n",
    "    def meanOfNumbers(self, signal):\n",
    "        return (statistics.mean(array[signal]))\n",
    "\n",
    "    def time(self, times, startTime, endTime, dataPoints):           #finds the relative position of a time in the 2200 data points\n",
    "        return list(map(lambda t: (round(((t-startTime)/(endTime - startTime))*dataPoints)), times))  #Lambda is a keyword that allows you to define a function in one line and use immediately.\n",
    "                                                                   # map excecutes a specified function in a list without an explicit loop.\n",
    "            \n",
    "    def pairs(self, listOfTimes):     #pairs time boundaries together eg. -0.5 to 3.0, 3.0 to 4.5\n",
    "        return list(zip(listOfTimes, listOfTimes[1:])) #zip returns an iterator of tuples, with two items paired together in each\n",
    "\n",
    "    def sumWithTimes(self, signal, pairsList):   #sum of data points between specified boundaries\n",
    "        return ([sum(array[signal][start:end]) for start, end in pairsList])\n",
    "\n",
    "    def meanWithTimes(self, signal, pairsList):     #mean of data points between specified boundaries\n",
    "        return ([statistics.mean(array[signal][start:end]) for start, end in pairsList])\n",
    "        \n",
    "    def cumulativeWithTimes(self, time, prevTotal, counter, data, x, y, i):\n",
    "        i += 1\n",
    "        if (y+1) <= len(time):\n",
    "            #if (index[x]-startTime)/(*dataPerSec <= i <= (index[y]-startTime)*dataPerSec:\n",
    "            if time[x] <= i <= time[y]:\n",
    "                counter += 1\n",
    "                total = prevTotal + data            \n",
    "            \n",
    "                if time[y] ==  i:\n",
    "                    #allIndexTotals.append(indexTotal)\n",
    "                    x = y\n",
    "                    y += 1\n",
    "                    #counter = 0\n",
    "                    \n",
    "\n",
    "                    \n",
    "                    return [total, total/counter, 0, x, y, i]\n",
    "                print(\"cumulative total\", total, \"\\ncumulative mean\", total/counter)\n",
    "                return [total, total/counter, counter, x, y, i]\n",
    "        return[0,0,0,0,i]\n",
    "        #print(\"hello\")\n",
    "    \n",
    "    def cumulateNTimes(self, nList, currentData):\n",
    "        nList.append(currentData)\n",
    "        nList.pop(0)\n",
    "        return nList\n"
   ]
  },
  {
   "cell_type": "markdown",
   "id": "b32e4a84",
   "metadata": {},
   "source": [
    "### Sum of 1 signal \n",
    "- Pass in the number of the BLM to find the sum of"
   ]
  },
  {
   "cell_type": "code",
   "execution_count": 44,
   "id": "f30d2ee8",
   "metadata": {
    "scrolled": true
   },
   "outputs": [
    {
     "name": "stdout",
     "output_type": "stream",
     "text": [
      "13.067459911573675\n"
     ]
    }
   ],
   "source": [
    "stats = statsClass(array) # \"array\" in this case can be whatever variable that has been used to store your data set\n",
    "sumExplained = stats.sumOfNumbers(2) \n",
    "print(sumExplained)"
   ]
  },
  {
   "cell_type": "markdown",
   "id": "29a480da",
   "metadata": {},
   "source": [
    "### Mean of 1 signal\n",
    "- Pass in the number of the BLM to find the overall mean of"
   ]
  },
  {
   "cell_type": "code",
   "execution_count": 45,
   "id": "79b5a1a4",
   "metadata": {},
   "outputs": [
    {
     "name": "stdout",
     "output_type": "stream",
     "text": [
      "0.005939754505260714\n"
     ]
    }
   ],
   "source": [
    "meanExplained = stats.meanOfNumbers(2)\n",
    "print(meanExplained)"
   ]
  },
  {
   "cell_type": "markdown",
   "id": "e0c72b1b",
   "metadata": {},
   "source": [
    "### Time function\n",
    "- Finds the relative position of a time within the number of data points\n",
    "- Does not return anything (don't worry !!)\n",
    "- Pass in the time boundaries (in milliseconds) that you want to perform stats functions on, the starting time and end time of the full data set, and the number of data points"
   ]
  },
  {
   "cell_type": "code",
   "execution_count": 46,
   "id": "933de374",
   "metadata": {},
   "outputs": [],
   "source": [
    "timeExplained00 = stats.time([1,2],-0.5,10.5,2200)"
   ]
  },
  {
   "cell_type": "code",
   "execution_count": 47,
   "id": "b5e13c5b",
   "metadata": {},
   "outputs": [],
   "source": [
    "timeExplained01 = stats.time([1,2,3,4,5],-0.5,10.5,2200) #Can pass in as many time boundaries as you want to"
   ]
  },
  {
   "cell_type": "markdown",
   "id": "906a4e8a",
   "metadata": {},
   "source": [
    "### Pairs function\n",
    "- Also doesn't return anything\n",
    "- Pass in previous time function\n",
    "- Will split time boundaries into pairs - (1, 2) (2, 3) (3, 4) (4, 5) - (not actually like this, manipulated times as opposed to 1, 2, 3, etc.)"
   ]
  },
  {
   "cell_type": "code",
   "execution_count": 48,
   "id": "78da47b6",
   "metadata": {},
   "outputs": [
    {
     "name": "stdout",
     "output_type": "stream",
     "text": [
      "[(300, 500), (500, 700), (700, 900), (900, 1100)]\n"
     ]
    }
   ],
   "source": [
    "pairsExplained = stats.pairs(timeExplained01)\n",
    "print(pairsExplained)"
   ]
  },
  {
   "cell_type": "markdown",
   "id": "2494393d",
   "metadata": {},
   "source": [
    "### Sum of data between specified boundaries\n",
    "- Pass in number of BLM and pairs function "
   ]
  },
  {
   "cell_type": "code",
   "execution_count": 49,
   "id": "1a597009",
   "metadata": {},
   "outputs": [
    {
     "name": "stdout",
     "output_type": "stream",
     "text": [
      "[1.928820000030095, 1.6196799958124708, 1.0992999873123963, 0.8881799853406753]\n"
     ]
    }
   ],
   "source": [
    "sumBoundariesExplained = stats.sumWithTimes(2, pairsExplained)\n",
    "print(sumBoundariesExplained)"
   ]
  },
  {
   "cell_type": "markdown",
   "id": "9a9be80f",
   "metadata": {},
   "source": [
    "### Mean of data between specified boundaries \n",
    "- Takes same values as sum function above"
   ]
  },
  {
   "cell_type": "code",
   "execution_count": 50,
   "id": "59f59fd6",
   "metadata": {},
   "outputs": [
    {
     "name": "stdout",
     "output_type": "stream",
     "text": [
      "[0.009644100000150452, 0.00809839997906233, 0.0054964999365619775, 0.0044408999267033745]\n"
     ]
    }
   ],
   "source": [
    "meanBoundariesExplained = stats.meanWithTimes(2, pairsExplained)\n",
    "print(meanBoundariesExplained)"
   ]
  },
  {
   "cell_type": "markdown",
   "id": "f37099a4",
   "metadata": {},
   "source": [
    "# Full example\n",
    "- Finding the mean of signals between 1 and 2 milliseconds"
   ]
  },
  {
   "cell_type": "code",
   "execution_count": 51,
   "id": "775fe0b9",
   "metadata": {
    "scrolled": true
   },
   "outputs": [
    {
     "name": "stdout",
     "output_type": "stream",
     "text": [
      "[0.009644100000150452]\n"
     ]
    }
   ],
   "source": [
    "meanBoundariesEx = stats.meanWithTimes(2,(stats.pairs(stats.time([1,2],-0.5,10.5,2200))))\n",
    "print(meanBoundariesEx)"
   ]
  },
  {
   "cell_type": "markdown",
   "id": "cfde3adb",
   "metadata": {},
   "source": [
    "# Cumulative mean and sum of data between specified time boundaries\n",
    "- Parameters\n",
    "    1. Time boundaries - use time function\n",
    "    2. prevTotal - This is what we will add the new data to.\n",
    "    3. Counter - amount of numbers already summed (for mean)\n",
    "    4. Data - current data we are adding (what is being signalled), (when simulated with for loop, use array[beam][i])\n",
    "    5. x - index of first time\n",
    "    6. y - index of second time\n",
    "    7. i - total repeats\n",
    "    \n",
    "- Outputs:\n",
    "    - A list is outputted containing:\n",
    "    0. cumulative total\n",
    "    1. cumulative mean\n",
    "    2. counter\n",
    "    3. x\n",
    "    4. y\n",
    "    5. i\n",
    "    \n",
    "When passing the parameters for the function use the indexes of the outputted list.\n",
    "\n",
    "-Ava"
   ]
  },
  {
   "cell_type": "code",
   "execution_count": 166,
   "id": "c156d268",
   "metadata": {},
   "outputs": [],
   "source": [
    "startTime = -0.5\n",
    "endTime = 10.5\n",
    "nOfData = 2200\n",
    "#timeDiff = endTime - startTime \n",
    "dataPerSec = nOfData / (endTime - startTime)"
   ]
  },
  {
   "cell_type": "code",
   "execution_count": 191,
   "id": "d4b2dc39",
   "metadata": {
    "scrolled": true
   },
   "outputs": [
    {
     "name": "stdout",
     "output_type": "stream",
     "text": [
      "cumulative total -0.000609999988228 \n",
      "cumulative mean -0.000609999988228\n",
      "cumulative total -0.001219999976456 \n",
      "cumulative mean -0.000609999988228\n",
      "cumulative total 9.996344030316351e-17 \n",
      "cumulative mean 3.332114676772117e-17\n",
      "cumulative total 0.0024399999529124 \n",
      "cumulative mean 0.0006099999882281\n",
      "cumulative total 0.0030499999411404003 \n",
      "cumulative mean 0.0006099999882280801\n",
      "cumulative total 0.0042699999175965005 \n",
      "cumulative mean 0.0007116666529327501\n",
      "cumulative total 0.009759999811649201 \n",
      "cumulative mean 0.0013942856873784572\n",
      "cumulative total 0.01585999969393 \n",
      "cumulative mean 0.00198249996174125\n",
      "cumulative total 0.0189099996350704 \n",
      "cumulative mean 0.0021011110705633777\n",
      "cumulative total 0.024399999529123098 \n",
      "cumulative mean 0.00243999995291231\n",
      "cumulative total 0.029889999423175797 \n",
      "cumulative mean 0.0027172726748341636\n",
      "cumulative total 0.0347699993290004 \n",
      "cumulative mean 0.0028974999440833666\n",
      "cumulative total 0.0426999996416267 \n",
      "cumulative mean 0.0032846153570482077\n",
      "cumulative total 0.0475799995474513 \n",
      "cumulative mean 0.0033985713962465212\n",
      "cumulative total 0.053069999441504 \n",
      "cumulative mean 0.0035379999627669335\n",
      "cumulative total 0.0585599993355567 \n",
      "cumulative mean 0.003659999958472294\n",
      "cumulative total 0.0640499992296094 \n",
      "cumulative mean 0.003767647013506435\n",
      "cumulative total 0.07197999954223569 \n",
      "cumulative mean 0.003998888863457538\n",
      "cumulative total 0.07624999945983219 \n",
      "cumulative mean 0.004013157866306957\n",
      "cumulative total 0.08173999935388489 \n",
      "cumulative mean 0.004086999967694244\n",
      "cumulative total 0.09150999970734039 \n",
      "cumulative mean 0.004357619033682876\n",
      "cumulative total 0.09821999957784928 \n",
      "cumulative mean 0.004464545435356786\n",
      "cumulative total 0.10309999948367389 \n",
      "cumulative mean 0.004482608673203213\n",
      "cumulative total 0.10919999936595469 \n",
      "cumulative mean 0.004549999973581445\n",
      "cumulative total 0.11590999923646358 \n",
      "cumulative mean 0.004636399969458543\n",
      "cumulative total 0.1262899991124859 \n",
      "cumulative mean 0.004857307658172535\n",
      "cumulative total 0.13544999901205199 \n",
      "cumulative mean 0.0050166666300759995\n",
      "cumulative total 0.14765999931841978 \n",
      "cumulative mean 0.005273571404229278\n",
      "cumulative total 0.16291999910026678 \n",
      "cumulative mean 0.005617931003457475\n",
      "cumulative total 0.17878999840468046 \n",
      "cumulative mean 0.0059596666134893485\n",
      "cumulative total 0.19465999770909415 \n",
      "cumulative mean 0.006279354764809488\n",
      "cumulative total 0.20930999796837435 \n",
      "cumulative mean 0.0065409374365116985\n",
      "cumulative total 0.22273999825119836 \n",
      "cumulative mean 0.00674969691670298\n",
      "cumulative total 0.24165999889373635 \n",
      "cumulative mean 0.007107647026286364\n",
      "cumulative total 0.26057999953627436 \n",
      "cumulative mean 0.007445142843893553\n",
      "cumulative total 0.2855999991297707 \n",
      "cumulative mean 0.007933333309160297\n",
      "cumulative total 0.3051299992948755 \n",
      "cumulative mean 0.008246756737699338\n",
      "cumulative total 0.3203899990767225 \n",
      "cumulative mean 0.008431315765176908\n",
      "cumulative total 0.3380899988114818 \n",
      "cumulative mean 0.008668974328499533\n",
      "cumulative total 0.3594499994069322 \n",
      "cumulative mean 0.008986249985173304\n",
      "cumulative total 0.3850799985229953 \n",
      "cumulative mean 0.009392195085926714\n",
      "cumulative total 0.4137699976563437 \n",
      "cumulative mean 0.009851666610865326\n",
      "cumulative total 0.4400199968367798 \n",
      "cumulative mean 0.010233023182250693\n",
      "cumulative total 0.46442999690770925 \n",
      "cumulative mean 0.010555227202447937\n",
      "cumulative total 0.48578999750315965 \n",
      "cumulative mean 0.010795333277847992\n",
      "cumulative total 0.5101999975740892 \n",
      "cumulative mean 0.011091304295088896\n",
      "cumulative total 0.5339999981224519 \n",
      "cumulative mean 0.011361702087711744\n",
      "cumulative total 0.5565799977630358 \n",
      "cumulative mean 0.011595416620063246\n",
      "cumulative total 0.5809899978339653 \n",
      "cumulative mean 0.011856938731305415\n",
      "cumulative total 0.6078499983996133 \n",
      "cumulative mean 0.012156999967992266\n",
      "cumulative total 0.6359299980103948 \n",
      "cumulative mean 0.012469215647262643\n",
      "cumulative total 0.6585099976509787 \n",
      "cumulative mean 0.01266365380098036\n",
      "cumulative total 0.6798699982464291 \n",
      "cumulative mean 0.01282773581597036\n",
      "cumulative total 0.7079499978572107 \n",
      "cumulative mean 0.013110185145503902\n",
      "cumulative total 0.7360299974679922 \n",
      "cumulative mean 0.013382363590327132\n",
      "cumulative total 0.7714299969375108 \n",
      "cumulative mean 0.013775535659598407\n",
      "cumulative total 0.8110999986529324 \n",
      "cumulative mean 0.014229824537770743\n",
      "cumulative total 0.8434499986469719 \n",
      "cumulative mean 0.014542241355982274\n",
      "cumulative total 0.8703099992126199 \n",
      "cumulative mean 0.014751016935807116\n",
      "cumulative total 0.8910599984228582 \n",
      "cumulative mean 0.014850999973714304\n",
      "cumulative total 0.907539999112484 \n",
      "cumulative mean 0.014877704903483344\n",
      "cumulative total 0.922799998894331 \n",
      "cumulative mean 0.014883870949908564\n",
      "cumulative total 0.9404999986290903 \n",
      "cumulative mean 0.014928571406810956\n",
      "cumulative total 0.960029998794195 \n",
      "cumulative mean 0.015000468731159297\n",
      "cumulative total 0.9771199990063876 \n",
      "cumulative mean 0.015032615369329039\n",
      "cumulative total 0.9960399996489255 \n",
      "cumulative mean 0.015091515146195842\n"
     ]
    },
    {
     "ename": "KeyboardInterrupt",
     "evalue": "",
     "output_type": "error",
     "traceback": [
      "\u001b[1;31m---------------------------------------------------------------------------\u001b[0m",
      "\u001b[1;31mKeyboardInterrupt\u001b[0m                         Traceback (most recent call last)",
      "Cell \u001b[1;32mIn[191], line 10\u001b[0m\n\u001b[0;32m      7\u001b[0m \u001b[38;5;28;01mfor\u001b[39;00m i \u001b[38;5;129;01min\u001b[39;00m \u001b[38;5;28mrange\u001b[39m(nOfData):\n\u001b[0;32m      9\u001b[0m     cumulativeExample \u001b[38;5;241m=\u001b[39m stats\u001b[38;5;241m.\u001b[39mcumulativeWithTimes(timeE, cumulativeExample[\u001b[38;5;241m2\u001b[39m], cumulativeExample[\u001b[38;5;241m0\u001b[39m], array[\u001b[38;5;241m2\u001b[39m][i], cumulativeExample[\u001b[38;5;241m3\u001b[39m], cumulativeExample[\u001b[38;5;241m4\u001b[39m], i)\n\u001b[1;32m---> 10\u001b[0m     \u001b[43mtime\u001b[49m\u001b[38;5;241;43m.\u001b[39;49m\u001b[43msleep\u001b[49m\u001b[43m(\u001b[49m\u001b[38;5;241;43m1\u001b[39;49m\u001b[43m)\u001b[49m\n",
      "\u001b[1;31mKeyboardInterrupt\u001b[0m: "
     ]
    }
   ],
   "source": [
    "timeE = stats.time([-0.5, 1,2],-0.5,10.5,2200)\n",
    "\n",
    "cumulativeExample = [0,0,0,0,0]\n",
    "\n",
    "\n",
    "\n",
    "for i in range(nOfData):\n",
    "    \n",
    "    cumulativeExample = stats.cumulativeWithTimes(timeE, cumulativeExample[0], cumulativeExample[2], array[2][i], cumulativeExample[3], cumulativeExample[4], i)\n",
    "    time.sleep(1)"
   ]
  },
  {
   "cell_type": "markdown",
   "id": "36efd2fc",
   "metadata": {},
   "source": [
    "## cumulateNTimes\n",
    "\n",
    "<u>Function Description:</u>\n",
    "- creates a list of the last n signals\n",
    "\n",
    "before use in the loop, define n\n",
    "then create a list of n zeros\n",
    "\n",
    "inputs \n",
    "- list of n zeros\n",
    "- Data - current data we are adding (what is being signalled), (when simulated with for loop, use array[beam][i])\n",
    "\n",
    "Outputs:\n",
    "- array of last n numbers\n",
    "\n",
    "Uses:\n",
    "to find total of these, use in conjunction with python sum function\n",
    "to find mean, divide this sum by n"
   ]
  },
  {
   "cell_type": "code",
   "execution_count": null,
   "id": "97a2deee",
   "metadata": {},
   "outputs": [],
   "source": [
    "n = 5 #####set to whatever\n",
    "nList = [0]*n   #creates an empty list with n items\n",
    "\n",
    "for i in range(nOfData):\n",
    "    lastNNumbers = stats.cumulateNTimes(nList, array[2][i])\n",
    "    print(lastNNumbers)\n",
    "    print(\"sum of last n: \", sum(lastNNumbers))\n",
    "    print(\"mean of last n: \", sum(lastNNumbers)/n)"
   ]
  },
  {
   "cell_type": "code",
   "execution_count": null,
   "id": "27c65820",
   "metadata": {},
   "outputs": [],
   "source": []
  }
 ],
 "metadata": {
  "kernelspec": {
   "display_name": "Python 3 (ipykernel)",
   "language": "python",
   "name": "python3"
  },
  "language_info": {
   "codemirror_mode": {
    "name": "ipython",
    "version": 3
   },
   "file_extension": ".py",
   "mimetype": "text/x-python",
   "name": "python",
   "nbconvert_exporter": "python",
   "pygments_lexer": "ipython3",
   "version": "3.10.9"
  }
 },
 "nbformat": 4,
 "nbformat_minor": 5
}
