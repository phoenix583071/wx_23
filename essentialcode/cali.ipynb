{
 "cells": [
  {
   "cell_type": "markdown",
   "id": "e3ce7273",
   "metadata": {},
   "source": [
    "##### 1. copy conversion functions:\n",
    "###### - interpolated blm calibration curve and r5im, with integration:\n",
    "###### - - volts to protons\n",
    "###### - - coulombs to joules\n",
    "##### 2. attributes for functions\n",
    "##### 3. ready to modulate\n",
    "##### 4. replace integer values with variables\n",
    "##### 5. work on returns with hen"
   ]
  },
  {
   "cell_type": "code",
   "execution_count": 143,
   "id": "7c5ef1e4",
   "metadata": {},
   "outputs": [],
   "source": [
    "import glob\n",
    "import pandas as pd\n",
    "import paho.mqtt.client as mqtt\n",
    "import time\n",
    "import matplotlib.pyplot as plt\n",
    "import matplotlib.cm as cm\n",
    "import matplotlib.gridspec as gridspec\n",
    "import numpy as np\n",
    "from scipy import integrate\n",
    "from scipy.constants import c, m_p, e\n",
    "import DataFilterModule as dfm"
   ]
  },
  {
   "cell_type": "markdown",
   "id": "5f47a8ac",
   "metadata": {},
   "source": [
    "##### csv - make into module"
   ]
  },
  {
   "cell_type": "code",
   "execution_count": 154,
   "id": "03c59ec0",
   "metadata": {},
   "outputs": [],
   "source": [
    "class ImportData:\n",
    "    def __init__(self):\n",
    "        index = 0\n",
    "        folder = None\n",
    "        cycle = True\n",
    "    \n",
    "    def fetch(self, index=0, folder=None, cycle=True) -> None:\n",
    "        if folder is None:\n",
    "            if cycle:\n",
    "                folder = './BLM_R5IM_Data/cycle/'\n",
    "            else:\n",
    "                folder = './BLM_R5IM_Data/R5IM_loss/'\n",
    "    \n",
    "        if folder[-1] != '/': folder += '/'        \n",
    "        \n",
    "        input_data = pd.read_csv(glob.glob(folder + '*.csv')[index])\n",
    "        return input_data.drop(columns = input_data.columns[0]).to_numpy()\n",
    "    \n",
    "# csv = ImportData()\n",
    "# y = csv.fetch()"
   ]
  },
  {
   "cell_type": "markdown",
   "id": "bd71c04d",
   "metadata": {},
   "source": [
    "##### mqtt - make into module"
   ]
  },
  {
   "cell_type": "code",
   "execution_count": 121,
   "id": "6e354231",
   "metadata": {},
   "outputs": [
    {
     "name": "stdout",
     "output_type": "stream",
     "text": [
      "Connected to: ac_phys/workxp/live_signals\n",
      "Disconnected from: ac_phys/workxp/live_signals\n"
     ]
    }
   ],
   "source": [
    "def generate_shortuuid() -> str:\n",
    "    \"\"\"Public function for generating short UUID messages\"\"\"\n",
    "    alphabet = string.ascii_lowercase + string.ascii_uppercase + string.digits\n",
    "    shortuiid = \"\".join(random.choices(alphabet, k=12))\n",
    "    return shortuiid\n",
    "\n",
    "class MQTTClient(mqtt.Client):\n",
    "    def __init__(self, topic_name, *args, **kwargs):\n",
    "        super().__init__(*args, **kwargs)\n",
    "        self.topic_name = topic_name\n",
    "\n",
    "    def on_connect(self, client, userdata, flags, rc):\n",
    "        print('Connected to: ' + str(self.topic_name))\n",
    "        self.subscribe(self.topic_name)\n",
    "\n",
    "    def on_disconnect(self, client, userdata, rc):\n",
    "        print('Disconnected from: ' + str(self.topic_name))\n",
    "        \n",
    "    def on_message(self, client, userdata, message):\n",
    "        msg_byte = message.payload\n",
    "        msg_decode = np.frombuffer(msg_byte, dtype=float, count=-1, offset=0)\n",
    "        msg_array = np.reshape(msg_decode, (40, 2200))\n",
    "        print(msg_array)\n",
    "\n",
    "def get_live_data(topic_name, time_period):\n",
    "    client = MQTTClient(topic_name)\n",
    "    client.connect(\"130.246.57.45\", 8883, 60)\n",
    "    client.loop_start()\n",
    "    time.sleep(time_period)\n",
    "    client.disconnect()\n",
    "    client.loop_stop()\n",
    "        \n",
    "get_live_data(\"ac_phys/workxp/live_signals\", 5)"
   ]
  },
  {
   "cell_type": "markdown",
   "id": "8fbf818b",
   "metadata": {},
   "source": [
    "##### filtering - make into module"
   ]
  },
  {
   "cell_type": "code",
   "execution_count": 120,
   "id": "1078233f",
   "metadata": {},
   "outputs": [],
   "source": [
    "class DataFilter:\n",
    "\n",
    "  labels = [\"r0blm1\", \"r0blm3\", \"r0blm4\",\n",
    "            \"r1blm1\", \"r1blm2\", \"r1blm3\", \"r1blm4\",\n",
    "            \"r2blm1\", \"r2blm2\", \"r2blm3\", \"r2blm4\",\n",
    "            \"r3blm1\", \"r3blm2\", \"r3blm3\", \"r3blm4\",\n",
    "            \"r4blm1\", \"r4blm2\", \"r4blm3\", \"r4blm4\",\n",
    "            \"r5blm1\", \"r5blm2\", \"r5blm3\", \"r5blm4\",\n",
    "            \"r6blm1\", \"r6blm2\", \"r6blm3\", \"r6blm4\",\n",
    "            \"r7blm1\", \"r7blm2\", \"r7blm3\", \"r7blm4\",\n",
    "            \"r8blm1\", \"r8blm2\", \"r8blm3\", \"r8blm4\",\n",
    "            \"r9blm1\", \"r9blm2\", \"r9blm3\", \"r9blm4\",\n",
    "            \"r5im\"]\n",
    "\n",
    "    def __init__(self, *, select = True, invert = False, scale = 1, offset = 0, auto_offset = 0):\n",
    "    '''Creates a filterer object, with configurable settings to filter input data.\n",
    "    '''\n",
    "\n",
    "    self.data = []\n",
    "\n",
    "    template = {\n",
    "      \"select\": select,\n",
    "      \"invert\": invert,\n",
    "      \"scale\": scale,\n",
    "      \"offset\": offset,\n",
    "      \"auto_offset\": auto_offset,\n",
    "    }\n",
    "\n",
    "    self.settings = [deepcopy(template) for i in range(40)]\n",
    "\n",
    "    def set(self, setting: str, state, labels: list[str | int] = None) -> None:\n",
    "    if labels is None:\n",
    "      for each in self.settings:\n",
    "        each[setting] = state\n",
    "    \n",
    "    else:\n",
    "      # single specified\n",
    "      if isinstance(labels, str) or isinstance(labels, int):\n",
    "        self.settings[self._index_(labels)][setting] = state\n",
    "\n",
    "      # multiple specified\n",
    "      else:\n",
    "        for each in labels:\n",
    "          self.settings[self._index_(each)][setting] = state\n",
    "\n",
    "  \n",
    "  def reset(self) -> None:\n",
    "    '''Resets filters to their default settings.'''\n",
    "\n",
    "    self.settings = [{\n",
    "      \"select\": True,\n",
    "      \"invert\": False,\n",
    "      \"scale\": 1,\n",
    "      \"offset\": 0,\n",
    "      \"auto_offset\": 0\n",
    "    }] * 40\n",
    "    \n",
    "# filterer = dfm.DataFilter()\n",
    "# filterer.set(\"invert\", True, \"r5im\")\n",
    "# filterer.apply(y)"
   ]
  },
  {
   "cell_type": "code",
   "execution_count": 132,
   "id": "2a872e68",
   "metadata": {},
   "outputs": [
    {
     "data": {
      "text/plain": [
       "[<matplotlib.lines.Line2D at 0x1a263eae8f0>]"
      ]
     },
     "execution_count": 132,
     "metadata": {},
     "output_type": "execute_result"
    },
    {
     "data": {
      "image/png": "[encoded data removed]",
      "text/plain": [
       "<Figure size 640x480 with 1 Axes>"
      ]
     },
     "metadata": {},
     "output_type": "display_data"
    }
   ],
   "source": [
    "plt.plot(x_data, y[39], 'b')\n",
    "\n",
    "filterer = dfm.DataFilter()\n",
    "\n",
    "filterer.set(\"invert\", True, \"r5im\")\n",
    "filterer.apply(y)\n",
    "\n",
    "plt.plot(x_data, y[39], 'r')"
   ]
  },
  {
   "cell_type": "code",
   "execution_count": 113,
   "id": "66832175",
   "metadata": {},
   "outputs": [
    {
     "data": {
      "text/plain": [
       "[<matplotlib.lines.Line2D at 0x1a263694670>]"
      ]
     },
     "execution_count": 113,
     "metadata": {},
     "output_type": "execute_result"
    },
    {
     "data": {
      "image/png": "[encoded data removed]",
      "text/plain": [
       "<Figure size 640x480 with 1 Axes>"
      ]
     },
     "metadata": {},
     "output_type": "display_data"
    }
   ],
   "source": [
    "plt.plot(x_data, y[1], 'b')\n",
    "\n",
    "filterer2 = dfm.DataFilter()\n",
    "\n",
    "filterer2.set(\"auto_offset\", 10)\n",
    "filterer2.apply(y)\n",
    "\n",
    "plt.plot(x_data, y[1], 'r')"
   ]
  },
  {
   "cell_type": "markdown",
   "id": "43a0f9ad",
   "metadata": {},
   "source": [
    "##### time interval - make into module"
   ]
  },
  {
   "cell_type": "code",
   "execution_count": 66,
   "id": "9d50073f",
   "metadata": {},
   "outputs": [],
   "source": [
    "def setTimeInterval(array, start, end, step):\n",
    "    for i in range(start - 1, end):\n",
    "        yNewRange.append(oldArray[i])\n",
    "    for i in yNewRange[::step]:\n",
    "        yNewRangeStepped.append(i)\n",
    "        print(yNewRangeStepped)"
   ]
  },
  {
   "cell_type": "markdown",
   "id": "987c61c7",
   "metadata": {},
   "source": [
    "##### conversion - make into module"
   ]
  },
  {
   "cell_type": "code",
   "execution_count": null,
   "id": "611dbdf9",
   "metadata": {},
   "outputs": [],
   "source": [
    "class Convert:\n",
    "    def toMomentum(maxE, time):\n",
    "        mpeV = m_p * c**2 / e           # Proton mass in eV\n",
    "        R0 = 26                         # Mean machine radius\n",
    "        nDip = 10                      # Number of dipoles\n",
    "        dipl = 4.4                     # Dipole length\n",
    "    \n",
    "        dipAngle = 2 * np.pi / n_dip   # Dipole bending angle\n",
    "        rho = dipl / dipAngle         # Dipole radius of curvature\n",
    "        omega = 2 * np.pi * 50   \n",
    "    \n",
    "        Ek = np.array([70, maxE]) * 1e6 # Injection and extraction kinetic energies \n",
    "        E = Ek + mpeV                    # Injection and extraction kinetic energies\n",
    "        p = np.sqrt(E**2 - mpeV**2)      # Injection and extraction momenta\n",
    "\n",
    "        B = p / c / rho                  # Ideal magnetic field at injection and extraction energies\n",
    "    \n",
    "        Bdip = lambda t: (B[1] + B[0] - (B[1] - B[0]) * np.cos(omega * t)) / 2  # Idealised B-field variation with AC\n",
    "        pdip = lambda t: Bdip(t) * rho * c                                      # Momentum from B-field in MeV\n",
    "    \n",
    "        return pdip(time*1E-3)\n",
    "\n",
    "    def toKE(maxE, time):\n",
    "        mpeV = m_p * c**2 / e           # Proton mass in eV    \n",
    "        # Relativistic Kinetic Energy = Relativistic Energy - mass\n",
    "        return (np.sqrt(toMomentum(max_E, time)**2 + mpeV**2) - mpeV) # Return array in eV\n",
    "        #return (np.sqrt(synchrotron_momentum(max_E, time)**2 + mpeV**2) - mpeV)/1E6 # Return array in MeV\n",
    "        \n",
    "    def integrate(maxE, start, stop):\n",
    "        # np linspace array of the energy ramp of the beam between -0.5 and 10.5 ms with 2200 points\n",
    "        energyRamp = (toKE(maxE, (np.linspace(-0.5, 10.5, 2200, endpoint = True))))[start:stop]\n",
    "        \n",
    "        # energy_ramp = (((E_max-70)/2*(np.sin(np.linspace(-0.5, 10.5, 2200)*(np.pi/10)-(np.pi/2))))+(E_max-70)/2+70)[start:stop]\n",
    "        # chris' data\n",
    "        chrisX = [0, 3, 5, 7, 9]\n",
    "        chrisY = [2.22E-16, 2.59E-16, 4.31E-15, 1.60E-14, 3.50E-14]\n",
    "        \n",
    "        # chris' calibration curve interpolated over a linspace of 2200 points between -0.5 and 10.5\n",
    "        chrisCalibration = np.interp(np.linspace(-0.5, 10.5, 2200), chrisX, chrisY)\n",
    "        \n",
    "        timeArray = np.linspace(-0.5, 10.5, len(chrisCalibration))\n",
    "        \n",
    "        # chris' calibration curve interpolated in protons/V s\n",
    "        finalCalibration = 1/chrisCalibration\n",
    "        data = fetch(0, None, False)[1:38]\n",
    "        \n",
    "        # relevant calibration curve between start and stop time periods\n",
    "        # The calibration constant before 0 seconds should be zero - as the losses from the BLMs should be discounted during this period\n",
    "        # final_calibration[0:find_nearest(np.linspace(-0.5, 10.5, num=2200), 0)] = 0\n",
    "        calibrationCurve = finalCalibration[start:stop]\n",
    "        blmSum = np.sum(data, axis = 0)\n",
    "        \n",
    "        # sum_1 gives the relevant blm sum signal as an array betwen the start and stop time periods \n",
    "        sum1 = blmSum[start:stop]\n",
    "        \n",
    "        # cumulative_sum sums the trapezoids cumulatively in an increasing array. \n",
    "        # we need to find the difference between consecutive values to find the integrals of each bin\n",
    "        cumulativeSum = integrate.cumulative_trapezoid(sum1, x = np.linspace(-0.5, 10.5, 2200)[start:stop])\n",
    "           \n",
    "        # integrated_sum is an array of all integrated bins between start and stop\n",
    "        integratedSum = [0]\n",
    "        integratedSum[0] = cumulativeSum[0]\n",
    "        for i in range(1, len(cumulativeSum)):\n",
    "            integratedSum.append((cumulativeSum[i]-cumulativeSum[i-1]))\n",
    "            \n",
    "        # remember to change from s to ms\n",
    "        integratedSum = [i * 1000 for i in integratedSum]\n",
    "        \n",
    "        # integrated bins in Vms divided by 1000 to get Vs and multiplying by calibration constants to get number of protons\n",
    "        \n",
    "        \n",
    "        # print(len(protons))\n",
    "        \n",
    "        \n",
    "        protons_per_bin = ((np.array(integrated_sum))*0.001*(np.delete(calibration_curve, [0])))"
   ]
  }
 ],
 "metadata": {
  "kernelspec": {
   "display_name": "Python 3 (ipykernel)",
   "language": "python",
   "name": "python3"
  },
  "language_info": {
   "codemirror_mode": {
    "name": "ipython",
    "version": 3
   },
   "file_extension": ".py",
   "mimetype": "text/x-python",
   "name": "python",
   "nbconvert_exporter": "python",
   "pygments_lexer": "ipython3",
   "version": "3.10.9"
  }
 },
 "nbformat": 4,
 "nbformat_minor": 5
}
