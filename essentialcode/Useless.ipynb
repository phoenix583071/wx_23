{
 "cells": [
  {
   "cell_type": "code",
   "execution_count": 1,
   "id": "acacffca",
   "metadata": {},
   "outputs": [],
   "source": [
    "import matplotlib.pyplot as plt \n",
    "import matplotlib.animation as animation\n",
    "from matplotlib.animation import FuncAnimation\n",
    "\n",
    "import numpy as np \n",
    "from mpl_toolkits.mplot3d import Axes3D\n",
    "from tkinter import *\n",
    "import matplotlib \n",
    "matplotlib.use('TkAgg')\n",
    "import pandas as pd\n",
    "import glob"
   ]
  },
  {
   "cell_type": "code",
   "execution_count": 2,
   "id": "5ca8d015",
   "metadata": {},
   "outputs": [],
   "source": [
    "def fetch_stored_data(index=0,  folder=None, cycle=True):\n",
    "\n",
    "    if folder is None:\n",
    "        if cycle:\n",
    "            folder = './BLM_R5IM_Data/cycle/'\n",
    "        else:\n",
    "            folder = './BLM_R5IM_Data/R5IM_loss/'\n",
    "    \n",
    "    if folder[-1] != '/': \n",
    "        folder += '/'    \n",
    "        \n",
    "    input_data = pd.read_csv(glob.glob(folder + '*.csv')[index])\n",
    "    return input_data.drop(columns = input_data.columns[0]).to_numpy()"
   ]
  },
  {
   "cell_type": "code",
   "execution_count": 3,
   "id": "1f9cb619",
   "metadata": {},
   "outputs": [],
   "source": [
    "p = fetch_stored_data(2, None, True)\n",
    "num_lines = 39\n",
    "num_points = 2200\n",
    "x = np.linspace(-.5, 10.5, 2200)\n",
    "y = p\n",
    "X, Y = np.meshgrid(x, y)\n",
    "Z = np.zeros((num_lines, num_points))\n",
    "blm_iterator_list = np.linspace(1,38,39, dtype=int)\n",
    "    #Start of function\\n\",\n",
    "x_data = np.linspace(-.5, 10.5, 2200)"
   ]
  },
  {
   "cell_type": "code",
   "execution_count": 7,
   "id": "9aacd6f3",
   "metadata": {},
   "outputs": [],
   "source": [
    "def waterfall(ax, p, x_data):\n",
    "    \n",
    "    blm_iterator_list = np.linspace(1,38,39, dtype=int)\n",
    "    #Graph colours\\n\",\n",
    "    blm_iterator_list = np.linspace(1,38,39, dtype=int)\n",
    "    \n",
    "    #fig = plt.figure(figsize=(10,11), tight_layout = True)\n",
    "    #ax = fig.add_subplot(111, projection='3d')\n",
    "    for i in blm_iterator_list:\n",
    "        y=p[i]\n",
    "        ax.plot(x_data, y , zs=i, zdir='y', alpha=0.8)\n",
    "    lines = [ax.plot([], [], [], '-', lw=0.5)[0] for i in range(num_lines)]"
   ]
  },
  {
   "cell_type": "code",
   "execution_count": 8,
   "id": "8138cf45",
   "metadata": {},
   "outputs": [],
   "source": [
    "def update(frame, x_data):\n",
    "    for m in blm_iterator_list:\n",
    "        Z[1:, :] = Z[:-1, :]\n",
    "        Z[0, :] = ax.plot(x_data, (fetch_stored_data(2, None, True)[m]), zs=m, zdir='y', alpha=0.8)\n",
    "        reversed_data = Z[::-1, :]\n",
    "    lines_data = []\n",
    "    for i in range(num_lines):\n",
    "        lines_data.append(list(zip(x, [i]*num_points, reversed_data[i, :])))\n",
    "    for i, line in enumerate(lines):  \n",
    "        line.set_data(x_data, [y[i]]*num_points)\n",
    "        line.set_3d_properties(Z[i, :])\n",
    "\n",
    "    ax.set_xlim3d(-0.5, 2200)\n",
    "    ax.set_ylim3d(0, num_lines)\n",
    "    ax.set_zlim3d(0, 0.50)  "
   ]
  },
  {
   "cell_type": "code",
   "execution_count": 11,
   "id": "c17c565d",
   "metadata": {},
   "outputs": [],
   "source": [
    "fig = plt.figure(figsize=(10,11), tight_layout = True)\n",
    "ax = fig.add_subplot(111, projection='3d')\n",
    "p = fetch_stored_data(2, None, True)\n",
    "waterfall(ax, p, x_data)\n",
    "plt.show()"
   ]
  },
  {
   "cell_type": "code",
   "execution_count": null,
   "id": "8b1cfb67",
   "metadata": {},
   "outputs": [],
   "source": []
  },
  {
   "cell_type": "code",
   "execution_count": null,
   "id": "7c60defb",
   "metadata": {},
   "outputs": [],
   "source": []
  },
  {
   "cell_type": "code",
   "execution_count": null,
   "id": "059f83bf",
   "metadata": {},
   "outputs": [],
   "source": []
  },
  {
   "cell_type": "code",
   "execution_count": null,
   "id": "4ea6109a",
   "metadata": {},
   "outputs": [],
   "source": [
    "fig = plt.figure(figsize=(10,11), tight_layout = True)\n",
    "\n",
    "ax = fig.add_subplot(111)\n",
    "waterfall(p, x_data)\n",
    "anim=FuncAnimation(fig, update, frames=range(num_lines-1), interval=1000)\n",
    "f = r\"C:\\Users\\pty76431\\Desktop\"\n",
    "writerGif = animation.PillowWriter(fps=30)\n",
    "anim.save(f, writer=writerGif)\n",
    "plt.show()"
   ]
  },
  {
   "cell_type": "code",
   "execution_count": null,
   "id": "010b4e98",
   "metadata": {},
   "outputs": [],
   "source": []
  }
 ],
 "metadata": {
  "kernelspec": {
   "display_name": "Python 3 (ipykernel)",
   "language": "python",
   "name": "python3"
  },
  "language_info": {
   "codemirror_mode": {
    "name": "ipython",
    "version": 3
   },
   "file_extension": ".py",
   "mimetype": "text/x-python",
   "name": "python",
   "nbconvert_exporter": "python",
   "pygments_lexer": "ipython3",
   "version": "3.10.9"
  }
 },
 "nbformat": 4,
 "nbformat_minor": 5
}
