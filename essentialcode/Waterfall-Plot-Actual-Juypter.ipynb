{
 "cells": [
  {
   "cell_type": "code",
   "execution_count": 41,
   "id": "46e3b69e",
   "metadata": {},
   "outputs": [],
   "source": [
    "import glob\n",
    "import pandas as pd\n",
    "import random\n",
    "import paho.mqtt.client as mqtt\n",
    "import string\n",
    "import time\n",
    "import matplotlib.pyplot as plt\n",
    "import matplotlib.cm as cm\n",
    "import numpy as np\n",
    "import matplotlib.animation as animation"
   ]
  },
  {
   "cell_type": "code",
   "execution_count": 40,
   "id": "7b2f6a0d",
   "metadata": {},
   "outputs": [],
   "source": [
    "def fetch_stored_data(index=0, folder=None, cycle=True):\n",
    "    \n",
    "    if folder is None:\n",
    "        if cycle:\n",
    "            folder = './BLM_R5IM_Data/cycle/'\n",
    "        else:\n",
    "            folder = './BLM_R5IM_Data/R5IM_loss/'\n",
    "    \n",
    "    if folder[-1] != '/': folder += '/'        \n",
    "        \n",
    "    input_data = pd.read_csv(glob.glob(folder + '*.csv')[index])\n",
    "    return input_data.drop(columns = input_data.columns[0]).to_numpy()"
   ]
  },
  {
   "cell_type": "code",
   "execution_count": 42,
   "id": "f664f7dd",
   "metadata": {},
   "outputs": [
    {
     "name": "stdout",
     "output_type": "stream",
     "text": [
      " Volume in drive C is Windows\n",
      " Volume Serial Number is B653-B683\n",
      "\n",
      " Directory of C:\\Users\\yjk94987\\work experience. STORE EVERYTHING HERE HELGA\n",
      "\n",
      "04/07/2023  16:59    <DIR>          .\n",
      "04/07/2023  16:59    <DIR>          ..\n",
      "30/06/2023  10:15    <DIR>          .ipynb_checkpoints\n",
      "28/06/2023  15:59               824 3d waterfall cart.py\n",
      "30/06/2023  09:29    <DIR>          BLM_R5IM_Data\n",
      "28/06/2023  11:08        25,426,160 python-3.11.4-amd64 (4).exe\n",
      "28/06/2023  11:45               697 TRIAL NO2 W GRAPHS.py\n",
      "28/06/2023  11:06               822 trials w graphs.py\n",
      "30/06/2023  10:13                72 Untitled.ipynb\n",
      "04/07/2023  09:21               479 updating g.py\n",
      "30/06/2023  09:38             1,523 waterfall graph-final.py\n",
      "28/06/2023  11:54                 0 waterfall plot.py\n",
      "04/07/2023  16:59            15,031 Waterfall-Plot-Actual-Juypter.ipynb\n",
      "28/06/2023  17:00               357 wf 2.py\n",
      "03/07/2023  14:18             1,146 Working Waterfall Function.py\n",
      "              11 File(s)     25,447,111 bytes\n",
      "               4 Dir(s)  409,944,178,688 bytes free\n"
     ]
    }
   ],
   "source": [
    "ls"
   ]
  },
  {
   "cell_type": "code",
   "execution_count": 43,
   "id": "de5ca27d",
   "metadata": {},
   "outputs": [
    {
     "data": {
      "text/plain": [
       "array([[-4.99939013e+00, -4.99939013e+00, -4.99939013e+00, ...,\n",
       "        -4.99939013e+00, -4.99939013e+00, -4.99939013e+00],\n",
       "       [-5.48999989e-03, -5.48999989e-03, -4.87999991e-03, ...,\n",
       "        -3.04999994e-03, -3.65999993e-03, -2.43999995e-03],\n",
       "       [ 1.21999998e-03,  1.21999998e-03,  1.82999996e-03, ...,\n",
       "         1.09900003e-02,  6.70999987e-03,  7.31999986e-03],\n",
       "       ...,\n",
       "       [ 1.82999996e-03, -1.82999996e-03,  0.00000000e+00, ...,\n",
       "         6.09999988e-04,  3.04999994e-03,  1.21999998e-03],\n",
       "       [-1.82999996e-03,  3.04999994e-03,  1.82999996e-03, ...,\n",
       "         3.65999993e-03,  2.43999995e-03,  1.21999998e-03],\n",
       "       [ 5.06599993e-02,  5.18799983e-02,  5.37099987e-02, ...,\n",
       "        -1.04979999e-01, -1.04979999e-01, -1.05590001e-01]])"
      ]
     },
     "execution_count": 43,
     "metadata": {},
     "output_type": "execute_result"
    }
   ],
   "source": [
    "fetch_stored_data(2, None, False)"
   ]
  },
  {
   "cell_type": "code",
   "execution_count": 44,
   "id": "845fd8ad",
   "metadata": {},
   "outputs": [
    {
     "data": {
      "text/plain": [
       "array([[-4.99939013e+00, -4.99939013e+00, -4.99939013e+00, ...,\n",
       "        -4.99939013e+00, -4.99939013e+00, -4.99939013e+00],\n",
       "       [-6.70999987e-03, -4.87999991e-03, -4.26999992e-03, ...,\n",
       "        -5.48999989e-03, -4.87999991e-03, -4.26999992e-03],\n",
       "       [-3.04999994e-03,  6.09999988e-04,  1.21999998e-03, ...,\n",
       "         4.26999992e-03,  4.26999992e-03,  6.09999988e-04],\n",
       "       ...,\n",
       "       [-3.04999994e-03,  1.21999998e-03,  2.43999995e-03, ...,\n",
       "         2.43999995e-03, -1.21999998e-03,  0.00000000e+00],\n",
       "       [-1.21999998e-03, -1.21999998e-03,  6.09999988e-04, ...,\n",
       "        -6.70999987e-03, -4.87999991e-03, -4.87999991e-03],\n",
       "       [ 3.53999995e-02,  3.53999995e-02,  3.60100009e-02, ...,\n",
       "         2.31899992e-02,  2.31899992e-02,  2.31899992e-02]])"
      ]
     },
     "execution_count": 44,
     "metadata": {},
     "output_type": "execute_result"
    }
   ],
   "source": [
    "fetch_stored_data()"
   ]
  },
  {
   "cell_type": "code",
   "execution_count": 45,
   "id": "de906670",
   "metadata": {
    "scrolled": false
   },
   "outputs": [
    {
     "name": "stdout",
     "output_type": "stream",
     "text": [
      "r 3\n",
      "g 2\n",
      "b 1\n",
      "y 0\n"
     ]
    },
    {
     "data": {
      "text/plain": [
       "Text(0.5, 0, 'BLM Signal (Volts)')"
      ]
     },
     "execution_count": 45,
     "metadata": {},
     "output_type": "execute_result"
    }
   ],
   "source": [
    " \n",
    "colors = ['r', 'g', 'b', 'y']\n",
    "yticks = [3, 2, 1, 0]\n",
    "for c, k in zip(colors, yticks):\n",
    "    print (c,k)\n",
    "\n",
    "x_data = np.linspace(-.5, 10.5, 2200)\n",
    "blm_iterator_list = np.linspace(1,38,39, dtype=int)\n",
    "\n",
    "fig = plt.figure(figsize=(10,11), tight_layout = True)\n",
    "ax = fig.add_subplot(projection='3d')\n",
    "\n",
    "for i in blm_iterator_list:\n",
    "    \n",
    "    # fetch_stored_data(n, None, False) = R5IM loss data, n = glob file index not BLM index\n",
    "    # fetch_stored_data(n, None, True) = cycle data, n = glob file index not BLM index\n",
    "    ax.plot(x_data, fetch_stored_data(0, None, True)[i], zs=i, zdir='y', alpha=0.6)\n",
    "    \n",
    "#ax.set_ylim(2,5)\n",
    "#ax.set_xlim(-0.5, 10.5);\n",
    "#ax.set_zlim(-0.01, 0.05);\n",
    "plt.title('All BLMs for in-cycle data')\n",
    "plt.xlabel('Time (ms)')\n",
    "plt.ylabel('Signal Index')\n",
    "ax.set_zlabel('BLM Signal (Volts)')\n",
    "\n",
    "#Text(0.5, 0, 'BLM Signal (Volts)')"
   ]
  },
  {
   "cell_type": "code",
   "execution_count": null,
   "id": "243a6afb",
   "metadata": {},
   "outputs": [
    {
     "name": "stdout",
     "output_type": "stream",
     "text": [
      "r 3\n",
      "g 2\n",
      "b 1\n",
      "y 0\n"
     ]
    },
    {
     "name": "stderr",
     "output_type": "stream",
     "text": [
      "Traceback (most recent call last):\n",
      "  File \"C:\\Users\\yjk94987\\AppData\\Local\\anaconda3\\lib\\site-packages\\matplotlib\\cbook\\__init__.py\", line 304, in process\n",
      "    func(*args, **kwargs)\n",
      "  File \"C:\\Users\\yjk94987\\AppData\\Local\\anaconda3\\lib\\site-packages\\matplotlib\\animation.py\", line 900, in _start\n",
      "    self._init_draw()\n",
      "  File \"C:\\Users\\yjk94987\\AppData\\Local\\anaconda3\\lib\\site-packages\\matplotlib\\animation.py\", line 1740, in _init_draw\n",
      "    self._draw_frame(frame_data)\n",
      "  File \"C:\\Users\\yjk94987\\AppData\\Local\\anaconda3\\lib\\site-packages\\matplotlib\\animation.py\", line 1759, in _draw_frame\n",
      "    self._drawn_artists = self._func(framedata, *self._args)\n",
      "  File \"C:\\Users\\yjk94987\\AppData\\Local\\Temp\\ipykernel_12056\\1832958250.py\", line 47, in update\n",
      "    line.set_3d_properties(Z[i, :])\n",
      "  File \"C:\\Users\\yjk94987\\AppData\\Local\\anaconda3\\lib\\site-packages\\mpl_toolkits\\mplot3d\\art3d.py\", line 221, in set_3d_properties\n",
      "    zs = np.broadcast_to(zs, len(xs))\n",
      "  File \"<__array_function__ internals>\", line 180, in broadcast_to\n",
      "  File \"C:\\Users\\yjk94987\\AppData\\Local\\anaconda3\\lib\\site-packages\\numpy\\lib\\stride_tricks.py\", line 413, in broadcast_to\n",
      "    return _broadcast_to(array, shape, subok=subok, readonly=True)\n",
      "  File \"C:\\Users\\yjk94987\\AppData\\Local\\anaconda3\\lib\\site-packages\\numpy\\lib\\stride_tricks.py\", line 349, in _broadcast_to\n",
      "    it = np.nditer(\n",
      "ValueError: operands could not be broadcast together with remapped shapes [original->remapped]: (100,)  and requested shape (2200,)\n",
      "Traceback (most recent call last):\n",
      "  File \"C:\\Users\\yjk94987\\AppData\\Local\\anaconda3\\lib\\site-packages\\matplotlib\\cbook\\__init__.py\", line 304, in process\n",
      "    func(*args, **kwargs)\n",
      "  File \"C:\\Users\\yjk94987\\AppData\\Local\\anaconda3\\lib\\site-packages\\matplotlib\\animation.py\", line 900, in _start\n",
      "    self._init_draw()\n",
      "  File \"C:\\Users\\yjk94987\\AppData\\Local\\anaconda3\\lib\\site-packages\\matplotlib\\animation.py\", line 1740, in _init_draw\n",
      "    self._draw_frame(frame_data)\n",
      "  File \"C:\\Users\\yjk94987\\AppData\\Local\\anaconda3\\lib\\site-packages\\matplotlib\\animation.py\", line 1759, in _draw_frame\n",
      "    self._drawn_artists = self._func(framedata, *self._args)\n",
      "  File \"C:\\Users\\yjk94987\\AppData\\Local\\Temp\\ipykernel_12056\\2544917629.py\", line 38, in update_graph\n",
      "    ax.plot(x_data,y , zs=i, zdir='y', alpha=0.8)\n",
      "  File \"C:\\Users\\yjk94987\\AppData\\Local\\anaconda3\\lib\\site-packages\\mpl_toolkits\\mplot3d\\axes3d.py\", line 1487, in plot\n",
      "    lines = super().plot(xs, ys, *args, **kwargs)\n",
      "  File \"C:\\Users\\yjk94987\\AppData\\Local\\anaconda3\\lib\\site-packages\\matplotlib\\axes\\_axes.py\", line 1688, in plot\n",
      "    lines = [*self._get_lines(*args, data=data, **kwargs)]\n",
      "  File \"C:\\Users\\yjk94987\\AppData\\Local\\anaconda3\\lib\\site-packages\\matplotlib\\axes\\_base.py\", line 311, in __call__\n",
      "    yield from self._plot_args(\n",
      "  File \"C:\\Users\\yjk94987\\AppData\\Local\\anaconda3\\lib\\site-packages\\matplotlib\\axes\\_base.py\", line 465, in _plot_args\n",
      "    raise ValueError(\"x, y, and format string must not be None\")\n",
      "ValueError: x, y, and format string must not be None\n"
     ]
    }
   ],
   "source": [
    "#y axis - test data\n",
    "p = fetch_stored_data(0, None, True)\n",
    "\n",
    "#Start of function\n",
    "def waterfall(p):\n",
    "    x_data = np.linspace(-.5, 10.5, 2200)\n",
    "    blm_iterator_list = np.linspace(1,38,39, dtype=int)\n",
    "    #Graph colours\n",
    "    colors = ['r', 'g', 'b', 'y']\n",
    "    yticks = [3, 2, 1, 0]\n",
    "    for c, k in zip(colors, yticks):\n",
    "        print (c,k)\n",
    "        \n",
    "    blm_iterator_list = np.linspace(1,38,39, dtype=int)\n",
    "\n",
    "    fig = plt.figure(figsize=(10,11), tight_layout = True)\n",
    "    ax = fig.add_subplot(projection='3d')\n",
    "\n",
    "\n",
    "    x_data = np.linspace(-.5, 10.5, 2200)\n",
    "    for i in blm_iterator_list:\n",
    "    \n",
    "    # fetch_stored_data(n, None, False) = R5IM loss data, n = glob file index not BLM index\n",
    "    # fetch_stored_data(n, None, True) = cycle data, n = glob file index not BLM index\n",
    "    #y data variable\n",
    "        y=p[i]\n",
    "        ax.plot(x_data,y , zs=i, zdir='y', alpha=0.8)\n",
    "        #ax.set_ylim(2,5)\n",
    "#ax.set_xlim(-0.5, 10.5);\n",
    "#ax.set_zlim(-0.01, 0.05);\n",
    "    plt.title('All BLMs for in-cycle data')\n",
    "    plt.xlabel('Time (ms)')\n",
    "    plt.ylabel('Signal Index')\n",
    "    ax.set_zlabel('BLM Signal (Volts)')\n",
    "    \n",
    "def update_graph(frame):\n",
    "    ax.clear()\n",
    "    ax.plot(x_data,y , zs=i, zdir='y', alpha=0.8)\n",
    "    \n",
    "#ax.set_ylim(2,5)\n",
    "#ax.set_xlim(-0.5, 10.5);\n",
    "#ax.set_zlim(-0.01, 0.05);\n",
    "    plt.title('All BLMs for in-cycle data')\n",
    "    plt.xlabel('Time (ms)')\n",
    "    plt.ylabel('Signal Index')\n",
    "    ax.set_zlabel('BLM Signal (Volts)')\n",
    "#End of function\n",
    "animation = animation.FuncAnimation(fig, update_graph, frames=1, interval=0.1)\n",
    "    \n",
    "#Text(0.5, 0, 'BLM Signal (Volts)')\n",
    "waterfall(p)\n",
    "plt.show()"
   ]
  },
  {
   "cell_type": "code",
   "execution_count": null,
   "id": "f4f1b209",
   "metadata": {},
   "outputs": [],
   "source": []
  },
  {
   "cell_type": "code",
   "execution_count": null,
   "id": "7a092c8a",
   "metadata": {},
   "outputs": [],
   "source": [
    "import matplotlib.pyplot as plt \n",
    "import matplotlib.animation as animation\n",
    "from matplotlib.animation import FuncAnimation\n",
    "\n",
    "\n",
    "import numpy as np \n",
    "from mpl_toolkits.mplot3d import Axes3D\n",
    "from tkinter import *\n",
    "import matplotlib \n",
    "\n",
    "import pandas as pd\n",
    "import glob\n",
    "\n",
    "p = fetch_stored_data(0, None, True)\n",
    "\n",
    "def waterfall(p):\n",
    "    matplotlib.use('TkAgg')\n",
    "    num_lines = 7\n",
    "    num_points = 100\n",
    "    x = np.linspace(-0.5, 10.5, 2200)\n",
    "    y = p\n",
    "    X, Y = np.meshgrid(x, y)\n",
    "    Z = np.zeros((num_lines, num_points))\n",
    "\n",
    "    fig = plt.figure(figsize = (50,50))\n",
    "    ax = fig.add_subplot(111, projection = '3d')\n",
    "\n",
    "\n",
    "\n",
    "    lines = [ax.plot([], [], [], '-', lw=0.5)[0] for i in range(num_lines)]\n",
    "         \n",
    "    def update(frame):\n",
    "\n",
    "    \n",
    "#     Z[:-1, :] = Z[1:, :]\n",
    "#     Z[-1, :] = np.random.rand(num_points)\n",
    "        Z[1:, :] = Z[:-1, :]\n",
    "        Z[0, :] = np.random.rand(num_points)\n",
    "    \n",
    "        reversed_data = Z[::-1, :]\n",
    "        lines_data = []\n",
    "        for i in range(num_lines):\n",
    "            lines_data.append(list(zip(x, [i]*num_points, reversed_data[i, :])))\n",
    "        \n",
    "        for i, line in enumerate(lines):  \n",
    "            line.set_data(x, [y[i]]*num_points)\n",
    "            line.set_3d_properties(Z[i, :])\n",
    "        \n",
    "        ax.set_xlim3d(-0.5, 2200)\n",
    "        ax.set_ylim3d(0, num_lines)\n",
    "        ax.set_zlim3d(0, 0.50)\n",
    "    anim=FuncAnimation(fig, update, frames=range(num_lines), interval=1000)\n",
    "    f = r\"c://Users/yjk94987/Desktop/animation2.gif\" \n",
    "    writergif = animation.PillowWriter(fps=30) \n",
    "    anim.save(f, writer=writergif)\n",
    "\n",
    "waterfall(p)\n",
    "\n",
    "\n",
    "plt.show()"
   ]
  },
  {
   "cell_type": "code",
   "execution_count": null,
   "id": "a1f25995",
   "metadata": {},
   "outputs": [],
   "source": []
  },
  {
   "cell_type": "code",
   "execution_count": null,
   "id": "3cc387f6",
   "metadata": {},
   "outputs": [],
   "source": []
  }
 ],
 "metadata": {
  "kernelspec": {
   "display_name": "Python 3 (ipykernel)",
   "language": "python",
   "name": "python3"
  },
  "language_info": {
   "codemirror_mode": {
    "name": "ipython",
    "version": 3
   },
   "file_extension": ".py",
   "mimetype": "text/x-python",
   "name": "python",
   "nbconvert_exporter": "python",
   "pygments_lexer": "ipython3",
   "version": "3.10.9"
  }
 },
 "nbformat": 4,
 "nbformat_minor": 5
}
