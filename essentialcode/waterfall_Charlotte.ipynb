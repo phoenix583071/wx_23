{
 "cells": [
  {
   "cell_type": "code",
   "execution_count": null,
   "id": "7d0d0bb4",
   "metadata": {},
   "outputs": [],
   "source": [
    "import matplotlib.pyplot as plt \n",
    "import matplotlib.animation as animation\n",
    "from matplotlib.animation import FuncAnimation\n",
    "\n",
    "\n",
    "import numpy as np \n",
    "from mpl_toolkits.mplot3d import Axes3D\n",
    "from tkinter import *\n",
    "import matplotlib \n",
    "matplotlib.use('TkAgg')\n",
    "num_lines = 39\n",
    "num_points = 100\n",
    "x = np.linspace(0, 1, num_points)\n",
    "y = np.arange(num_lines)\n",
    "X, Y = np.meshgrid(x, y)\n",
    "Z = np.zeros((num_lines, num_points))\n",
    "\n",
    "fig = plt.figure(figsize = (50,50))\n",
    "ax = fig.add_subplot(111, projection = '3d')\n",
    "\n",
    "\n",
    "\n",
    "lines = [ax.plot([], [], [], '-', lw=1)[0] for i in range(num_lines)]\n",
    "         \n",
    "def update(frame):\n",
    "\n",
    "    \n",
    "#     Z[:-1, :] = Z[1:, :]\n",
    "#     Z[-1, :] = np.random.rand(num_points)\n",
    "    Z[1:, :] = Z[:-1, :]\n",
    "    Z[0, :] = np.random.rand(num_points)\n",
    "    \n",
    "    reversed_data = Z[::-1, :]\n",
    "    lines_data = []\n",
    "    for i in range(num_lines):\n",
    "        lines_data.append(list(zip(x, [i]*num_points, reversed_data[i, :])))\n",
    "        \n",
    "    for i, line in enumerate(lines):  \n",
    "        line.set_data(x, [y[i]]*num_points)\n",
    "        line.set_3d_properties(Z[i, :])\n",
    "        \n",
    "    ax.set_xlim3d(0, 1)\n",
    "    ax.set_ylim3d(0, num_lines)\n",
    "    ax.set_zlim3d(0, 1)\n",
    "    \n",
    "anim=FuncAnimation(fig, update, frames=range(num_lines), interval=1000)\n",
    "f = r\"c://Users/pty76431/Desktop/animation.gif\" \n",
    "writergif = animation.PillowWriter(fps=30) \n",
    "anim.save(f, writer=writergif)\n",
    "plt.show()"
   ]
  },
  {
   "cell_type": "code",
   "execution_count": null,
   "id": "99a33591",
   "metadata": {},
   "outputs": [],
   "source": []
  },
  {
   "cell_type": "code",
   "execution_count": null,
   "id": "19d429a0",
   "metadata": {},
   "outputs": [],
   "source": []
  }
 ],
 "metadata": {
  "kernelspec": {
   "display_name": "Python 3 (ipykernel)",
   "language": "python",
   "name": "python3"
  },
  "language_info": {
   "codemirror_mode": {
    "name": "ipython",
    "version": 3
   },
   "file_extension": ".py",
   "mimetype": "text/x-python",
   "name": "python",
   "nbconvert_exporter": "python",
   "pygments_lexer": "ipython3",
   "version": "3.10.9"
  }
 },
 "nbformat": 4,
 "nbformat_minor": 5
}
